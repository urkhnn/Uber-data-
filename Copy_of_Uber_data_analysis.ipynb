{
  "nbformat": 4,
  "nbformat_minor": 0,
  "metadata": {
    "colab": {
      "provenance": [],
      "authorship_tag": "ABX9TyPDnV5OvfFfl93S0OoHcyA6",
      "include_colab_link": true
    },
    "kernelspec": {
      "name": "python3",
      "display_name": "Python 3"
    },
    "language_info": {
      "name": "python"
    }
  },
  "cells": [
    {
      "cell_type": "markdown",
      "metadata": {
        "id": "view-in-github",
        "colab_type": "text"
      },
      "source": [
        "<a href=\"https://colab.research.google.com/github/urkhnn/Uber-data-/blob/main/Copy_of_Uber_data_analysis.ipynb\" target=\"_parent\"><img src=\"https://colab.research.google.com/assets/colab-badge.svg\" alt=\"Open In Colab\"/></a>"
      ]
    },
    {
      "cell_type": "markdown",
      "source": [
        "# **Project Name- Analysis of Uber data using Python**"
      ],
      "metadata": {
        "id": "oPy1Xl3A__a_"
      }
    },
    {
      "cell_type": "markdown",
      "source": [
        "**Project Type** - EDA"
      ],
      "metadata": {
        "id": "HAIYqZNdAON9"
      }
    },
    {
      "cell_type": "markdown",
      "source": [
        "**Contribution** - Individual"
      ],
      "metadata": {
        "id": "QU4eA4NeAU2M"
      }
    },
    {
      "cell_type": "markdown",
      "source": [
        "# Project Summary -"
      ],
      "metadata": {
        "id": "c1LxL-fvAZqg"
      }
    },
    {
      "cell_type": "markdown",
      "source": [
        "This project focuses on analyzing real-world Uber ride request data to extract meaningful operational and business insights. The dataset includes individual ride requests, each containing fields such as request ID, pickup point, driver ID, request and drop timestamps, average duration of trip, request date, and status (e.g., Trip Completed, Cancelled, No Cars Available). The goal was to understand patterns in user behavior, operational bottlenecks, driver performance, and request fulfillment trends.\n",
        "\n",
        "The analysis began with thorough data cleaning and transformation using Python. Timestamps were standardized, missing values were handled, and new fields such as trip duration and request date were derived to enable deeper analysis. The clean dataset was used to build interactive dashboards in Excel using PivotTables and charts to make the data easily explorable for non-technical stakeholders.\n",
        "\n",
        "Key performance metrics were calculated such as the trip completion rate, cancellation rate, average wait time, and most active drivers. Through SQL queries, we extracted useful summaries like the number of requests per day, busiest hours by pickup point, driver utilization rate, and requests with no drivers assigned. The insights revealed that airport pickups had a higher cancellation rate compared to city pickups, and that the majority of requests occurred during morning and evening hours. Additionally, some drivers consistently completed more trips with lower average trip times, indicating operational efficiency.\n",
        "\n",
        "To improve the usability of the analysis, a downloadable Excel dashboard was built containing pre-configured charts, data tables, and slicers for dynamic filtering. A PDF-ready version was also created for reporting purposes. Further, beginner-friendly SQL queries were compiled to help others explore the dataset independently.\n",
        "\n",
        "This project strengthened my skills in Excel dashboard design, data cleaning, and exploratory analysis using Python and SQL. It also helped me develop a deeper understanding of ride-sharing logistics, driver efficiency, and customer demand behavior. By blending technical analysis with visual storytelling, I was able to make insights accessible and actionable.\n"
      ],
      "metadata": {
        "id": "luXTFm_VAjN1"
      }
    },
    {
      "cell_type": "markdown",
      "source": [
        "# **GitHub Link** -"
      ],
      "metadata": {
        "id": "3W75qlxSA0Td"
      }
    },
    {
      "cell_type": "markdown",
      "source": [
        "https://github.com/urkhnn/Uber-data-.git"
      ],
      "metadata": {
        "id": "sx2Sb8rgA_zR"
      }
    },
    {
      "cell_type": "markdown",
      "source": [
        "# Problem Statement"
      ],
      "metadata": {
        "id": "4jmurEiwBDWy"
      }
    },
    {
      "cell_type": "markdown",
      "source": [
        "Ride-hailing platforms like Uber face significant operational challenges in managing real-time transportation demand, driver availability, and customer satisfaction. One of the critical issues in such systems is the inefficiency in trip fulfillment - including high cancellation rates, unassigned requests, and uneven demand across time and location.\n",
        "\n",
        "Despite capturing large volumes of request data, stakeholders often lack a clear understanding of patterns related to trip completion, cancellation causes, driver performance, and peak usage periods. Without these insights, it's difficult to optimize resource allocation, reduce customer dissatisfaction, or improve service reliability.\n",
        "\n",
        "This project addresses the problem by analyzing a dataset of Uber ride requests to answer key questions such as:\n",
        "\n",
        "What are the most common outcomes of ride requests (Trip Completed, Cancelled, No Cars Available)?\n",
        "\n",
        "When and where do most cancellations or no-car scenarios occur?\n",
        "\n",
        "Which drivers are the most efficient in terms of completed trips and response time?\n",
        "\n",
        "How does demand fluctuate over time (hourly, daily, by pickup point)?\n",
        "\n",
        "Are there delays or gaps between requests and successful ride completions?"
      ],
      "metadata": {
        "id": "cOW4M4oiBHPS"
      }
    },
    {
      "cell_type": "markdown",
      "source": [
        "# **Getting the data**"
      ],
      "metadata": {
        "id": "XyZtfr7vBz-b"
      }
    },
    {
      "cell_type": "markdown",
      "source": [
        "Import Libraries"
      ],
      "metadata": {
        "id": "EXHqZ6DBlWF-"
      }
    },
    {
      "cell_type": "code",
      "execution_count": null,
      "metadata": {
        "id": "mHrANQCEiK8v"
      },
      "outputs": [],
      "source": [
        "import pandas as pd\n",
        "import numpy as np\n",
        "import matplotlib.pyplot as plt\n",
        "import seaborn as sns\n",
        "from datetime import datetime\n",
        "import warnings\n",
        "warnings.filterwarnings('ignore')"
      ]
    },
    {
      "cell_type": "markdown",
      "source": [
        "Dataset Loading"
      ],
      "metadata": {
        "id": "ecip-CNSmNlZ"
      }
    },
    {
      "cell_type": "code",
      "source": [
        "df = pd.read_excel('/content/Uber_dataSQL.xls')"
      ],
      "metadata": {
        "id": "MrW0tX8VmSkC"
      },
      "execution_count": null,
      "outputs": []
    },
    {
      "cell_type": "markdown",
      "source": [
        "Dataset First view"
      ],
      "metadata": {
        "id": "aM2prVQxnaeI"
      }
    },
    {
      "cell_type": "code",
      "source": [
        "df.columns"
      ],
      "metadata": {
        "id": "4OIfzclLqYqm",
        "colab": {
          "base_uri": "https://localhost:8080/"
        },
        "outputId": "3c02df39-f036-4066-eb25-c56d0ab063bd"
      },
      "execution_count": null,
      "outputs": [
        {
          "output_type": "execute_result",
          "data": {
            "text/plain": [
              "Index(['Request_ID', 'Pickup_point', 'Driver_ID', 'Status',\n",
              "       'Request_timestamp', 'Drop_timestamp', 'Trip_duration_min',\n",
              "       'Request_date'],\n",
              "      dtype='object')"
            ]
          },
          "metadata": {},
          "execution_count": 7
        }
      ]
    },
    {
      "cell_type": "code",
      "source": [
        "df"
      ],
      "metadata": {
        "colab": {
          "base_uri": "https://localhost:8080/",
          "height": 423
        },
        "id": "MlvyZvDRrNjv",
        "outputId": "e63fef79-7c3d-4e9b-83bc-958bff1458a4"
      },
      "execution_count": null,
      "outputs": [
        {
          "output_type": "execute_result",
          "data": {
            "text/plain": [
              "      Request_ID Pickup_point  Driver_ID             Status  \\\n",
              "0            619      Airport        1.0     Trip Completed   \n",
              "1            867      Airport        1.0     Trip Completed   \n",
              "2           1807         City        1.0     Trip Completed   \n",
              "3           2532      Airport        1.0     Trip Completed   \n",
              "4           3112         City        1.0     Trip Completed   \n",
              "...          ...          ...        ...                ...   \n",
              "6740        6745         City        NaN  No Cars Available   \n",
              "6741        6752      Airport        NaN  No Cars Available   \n",
              "6742        6751         City        NaN  No Cars Available   \n",
              "6743        6754         City        NaN  No Cars Available   \n",
              "6744        6753      Airport        NaN  No Cars Available   \n",
              "\n",
              "       Request_timestamp      Drop_timestamp  Trip_duration_min Request_date  \n",
              "0    2016-07-11 11:51:00 2016-07-11 13:00:00               69.0   2016-07-11  \n",
              "1    2016-07-11 17:57:00 2016-07-11 18:47:00               50.0   2016-07-11  \n",
              "2    2016-07-12 09:17:00 2016-07-12 09:58:00               41.0   2016-07-12  \n",
              "3    2016-07-12 21:08:00 2016-07-12 22:03:00               55.0   2016-07-12  \n",
              "4    2016-07-13 08:33:16 2016-07-13 09:25:47               52.5   2016-07-13  \n",
              "...                  ...                 ...                ...          ...  \n",
              "6740 2016-07-15 23:49:03                 NaT                NaN   2016-07-15  \n",
              "6741 2016-07-15 23:50:05                 NaT                NaN   2016-07-15  \n",
              "6742 2016-07-15 23:52:06                 NaT                NaN   2016-07-15  \n",
              "6743 2016-07-15 23:54:39                 NaT                NaN   2016-07-15  \n",
              "6744 2016-07-15 23:55:03                 NaT                NaN   2016-07-15  \n",
              "\n",
              "[6745 rows x 8 columns]"
            ],
            "text/html": [
              "\n",
              "  <div id=\"df-6b8dc2b1-397e-45a2-8512-8dae33d8e6f6\" class=\"colab-df-container\">\n",
              "    <div>\n",
              "<style scoped>\n",
              "    .dataframe tbody tr th:only-of-type {\n",
              "        vertical-align: middle;\n",
              "    }\n",
              "\n",
              "    .dataframe tbody tr th {\n",
              "        vertical-align: top;\n",
              "    }\n",
              "\n",
              "    .dataframe thead th {\n",
              "        text-align: right;\n",
              "    }\n",
              "</style>\n",
              "<table border=\"1\" class=\"dataframe\">\n",
              "  <thead>\n",
              "    <tr style=\"text-align: right;\">\n",
              "      <th></th>\n",
              "      <th>Request_ID</th>\n",
              "      <th>Pickup_point</th>\n",
              "      <th>Driver_ID</th>\n",
              "      <th>Status</th>\n",
              "      <th>Request_timestamp</th>\n",
              "      <th>Drop_timestamp</th>\n",
              "      <th>Trip_duration_min</th>\n",
              "      <th>Request_date</th>\n",
              "    </tr>\n",
              "  </thead>\n",
              "  <tbody>\n",
              "    <tr>\n",
              "      <th>0</th>\n",
              "      <td>619</td>\n",
              "      <td>Airport</td>\n",
              "      <td>1.0</td>\n",
              "      <td>Trip Completed</td>\n",
              "      <td>2016-07-11 11:51:00</td>\n",
              "      <td>2016-07-11 13:00:00</td>\n",
              "      <td>69.0</td>\n",
              "      <td>2016-07-11</td>\n",
              "    </tr>\n",
              "    <tr>\n",
              "      <th>1</th>\n",
              "      <td>867</td>\n",
              "      <td>Airport</td>\n",
              "      <td>1.0</td>\n",
              "      <td>Trip Completed</td>\n",
              "      <td>2016-07-11 17:57:00</td>\n",
              "      <td>2016-07-11 18:47:00</td>\n",
              "      <td>50.0</td>\n",
              "      <td>2016-07-11</td>\n",
              "    </tr>\n",
              "    <tr>\n",
              "      <th>2</th>\n",
              "      <td>1807</td>\n",
              "      <td>City</td>\n",
              "      <td>1.0</td>\n",
              "      <td>Trip Completed</td>\n",
              "      <td>2016-07-12 09:17:00</td>\n",
              "      <td>2016-07-12 09:58:00</td>\n",
              "      <td>41.0</td>\n",
              "      <td>2016-07-12</td>\n",
              "    </tr>\n",
              "    <tr>\n",
              "      <th>3</th>\n",
              "      <td>2532</td>\n",
              "      <td>Airport</td>\n",
              "      <td>1.0</td>\n",
              "      <td>Trip Completed</td>\n",
              "      <td>2016-07-12 21:08:00</td>\n",
              "      <td>2016-07-12 22:03:00</td>\n",
              "      <td>55.0</td>\n",
              "      <td>2016-07-12</td>\n",
              "    </tr>\n",
              "    <tr>\n",
              "      <th>4</th>\n",
              "      <td>3112</td>\n",
              "      <td>City</td>\n",
              "      <td>1.0</td>\n",
              "      <td>Trip Completed</td>\n",
              "      <td>2016-07-13 08:33:16</td>\n",
              "      <td>2016-07-13 09:25:47</td>\n",
              "      <td>52.5</td>\n",
              "      <td>2016-07-13</td>\n",
              "    </tr>\n",
              "    <tr>\n",
              "      <th>...</th>\n",
              "      <td>...</td>\n",
              "      <td>...</td>\n",
              "      <td>...</td>\n",
              "      <td>...</td>\n",
              "      <td>...</td>\n",
              "      <td>...</td>\n",
              "      <td>...</td>\n",
              "      <td>...</td>\n",
              "    </tr>\n",
              "    <tr>\n",
              "      <th>6740</th>\n",
              "      <td>6745</td>\n",
              "      <td>City</td>\n",
              "      <td>NaN</td>\n",
              "      <td>No Cars Available</td>\n",
              "      <td>2016-07-15 23:49:03</td>\n",
              "      <td>NaT</td>\n",
              "      <td>NaN</td>\n",
              "      <td>2016-07-15</td>\n",
              "    </tr>\n",
              "    <tr>\n",
              "      <th>6741</th>\n",
              "      <td>6752</td>\n",
              "      <td>Airport</td>\n",
              "      <td>NaN</td>\n",
              "      <td>No Cars Available</td>\n",
              "      <td>2016-07-15 23:50:05</td>\n",
              "      <td>NaT</td>\n",
              "      <td>NaN</td>\n",
              "      <td>2016-07-15</td>\n",
              "    </tr>\n",
              "    <tr>\n",
              "      <th>6742</th>\n",
              "      <td>6751</td>\n",
              "      <td>City</td>\n",
              "      <td>NaN</td>\n",
              "      <td>No Cars Available</td>\n",
              "      <td>2016-07-15 23:52:06</td>\n",
              "      <td>NaT</td>\n",
              "      <td>NaN</td>\n",
              "      <td>2016-07-15</td>\n",
              "    </tr>\n",
              "    <tr>\n",
              "      <th>6743</th>\n",
              "      <td>6754</td>\n",
              "      <td>City</td>\n",
              "      <td>NaN</td>\n",
              "      <td>No Cars Available</td>\n",
              "      <td>2016-07-15 23:54:39</td>\n",
              "      <td>NaT</td>\n",
              "      <td>NaN</td>\n",
              "      <td>2016-07-15</td>\n",
              "    </tr>\n",
              "    <tr>\n",
              "      <th>6744</th>\n",
              "      <td>6753</td>\n",
              "      <td>Airport</td>\n",
              "      <td>NaN</td>\n",
              "      <td>No Cars Available</td>\n",
              "      <td>2016-07-15 23:55:03</td>\n",
              "      <td>NaT</td>\n",
              "      <td>NaN</td>\n",
              "      <td>2016-07-15</td>\n",
              "    </tr>\n",
              "  </tbody>\n",
              "</table>\n",
              "<p>6745 rows × 8 columns</p>\n",
              "</div>\n",
              "    <div class=\"colab-df-buttons\">\n",
              "\n",
              "  <div class=\"colab-df-container\">\n",
              "    <button class=\"colab-df-convert\" onclick=\"convertToInteractive('df-6b8dc2b1-397e-45a2-8512-8dae33d8e6f6')\"\n",
              "            title=\"Convert this dataframe to an interactive table.\"\n",
              "            style=\"display:none;\">\n",
              "\n",
              "  <svg xmlns=\"http://www.w3.org/2000/svg\" height=\"24px\" viewBox=\"0 -960 960 960\">\n",
              "    <path d=\"M120-120v-720h720v720H120Zm60-500h600v-160H180v160Zm220 220h160v-160H400v160Zm0 220h160v-160H400v160ZM180-400h160v-160H180v160Zm440 0h160v-160H620v160ZM180-180h160v-160H180v160Zm440 0h160v-160H620v160Z\"/>\n",
              "  </svg>\n",
              "    </button>\n",
              "\n",
              "  <style>\n",
              "    .colab-df-container {\n",
              "      display:flex;\n",
              "      gap: 12px;\n",
              "    }\n",
              "\n",
              "    .colab-df-convert {\n",
              "      background-color: #E8F0FE;\n",
              "      border: none;\n",
              "      border-radius: 50%;\n",
              "      cursor: pointer;\n",
              "      display: none;\n",
              "      fill: #1967D2;\n",
              "      height: 32px;\n",
              "      padding: 0 0 0 0;\n",
              "      width: 32px;\n",
              "    }\n",
              "\n",
              "    .colab-df-convert:hover {\n",
              "      background-color: #E2EBFA;\n",
              "      box-shadow: 0px 1px 2px rgba(60, 64, 67, 0.3), 0px 1px 3px 1px rgba(60, 64, 67, 0.15);\n",
              "      fill: #174EA6;\n",
              "    }\n",
              "\n",
              "    .colab-df-buttons div {\n",
              "      margin-bottom: 4px;\n",
              "    }\n",
              "\n",
              "    [theme=dark] .colab-df-convert {\n",
              "      background-color: #3B4455;\n",
              "      fill: #D2E3FC;\n",
              "    }\n",
              "\n",
              "    [theme=dark] .colab-df-convert:hover {\n",
              "      background-color: #434B5C;\n",
              "      box-shadow: 0px 1px 3px 1px rgba(0, 0, 0, 0.15);\n",
              "      filter: drop-shadow(0px 1px 2px rgba(0, 0, 0, 0.3));\n",
              "      fill: #FFFFFF;\n",
              "    }\n",
              "  </style>\n",
              "\n",
              "    <script>\n",
              "      const buttonEl =\n",
              "        document.querySelector('#df-6b8dc2b1-397e-45a2-8512-8dae33d8e6f6 button.colab-df-convert');\n",
              "      buttonEl.style.display =\n",
              "        google.colab.kernel.accessAllowed ? 'block' : 'none';\n",
              "\n",
              "      async function convertToInteractive(key) {\n",
              "        const element = document.querySelector('#df-6b8dc2b1-397e-45a2-8512-8dae33d8e6f6');\n",
              "        const dataTable =\n",
              "          await google.colab.kernel.invokeFunction('convertToInteractive',\n",
              "                                                    [key], {});\n",
              "        if (!dataTable) return;\n",
              "\n",
              "        const docLinkHtml = 'Like what you see? Visit the ' +\n",
              "          '<a target=\"_blank\" href=https://colab.research.google.com/notebooks/data_table.ipynb>data table notebook</a>'\n",
              "          + ' to learn more about interactive tables.';\n",
              "        element.innerHTML = '';\n",
              "        dataTable['output_type'] = 'display_data';\n",
              "        await google.colab.output.renderOutput(dataTable, element);\n",
              "        const docLink = document.createElement('div');\n",
              "        docLink.innerHTML = docLinkHtml;\n",
              "        element.appendChild(docLink);\n",
              "      }\n",
              "    </script>\n",
              "  </div>\n",
              "\n",
              "\n",
              "    <div id=\"df-5f1a192b-7ccd-44c7-8f88-67690757e1f9\">\n",
              "      <button class=\"colab-df-quickchart\" onclick=\"quickchart('df-5f1a192b-7ccd-44c7-8f88-67690757e1f9')\"\n",
              "                title=\"Suggest charts\"\n",
              "                style=\"display:none;\">\n",
              "\n",
              "<svg xmlns=\"http://www.w3.org/2000/svg\" height=\"24px\"viewBox=\"0 0 24 24\"\n",
              "     width=\"24px\">\n",
              "    <g>\n",
              "        <path d=\"M19 3H5c-1.1 0-2 .9-2 2v14c0 1.1.9 2 2 2h14c1.1 0 2-.9 2-2V5c0-1.1-.9-2-2-2zM9 17H7v-7h2v7zm4 0h-2V7h2v10zm4 0h-2v-4h2v4z\"/>\n",
              "    </g>\n",
              "</svg>\n",
              "      </button>\n",
              "\n",
              "<style>\n",
              "  .colab-df-quickchart {\n",
              "      --bg-color: #E8F0FE;\n",
              "      --fill-color: #1967D2;\n",
              "      --hover-bg-color: #E2EBFA;\n",
              "      --hover-fill-color: #174EA6;\n",
              "      --disabled-fill-color: #AAA;\n",
              "      --disabled-bg-color: #DDD;\n",
              "  }\n",
              "\n",
              "  [theme=dark] .colab-df-quickchart {\n",
              "      --bg-color: #3B4455;\n",
              "      --fill-color: #D2E3FC;\n",
              "      --hover-bg-color: #434B5C;\n",
              "      --hover-fill-color: #FFFFFF;\n",
              "      --disabled-bg-color: #3B4455;\n",
              "      --disabled-fill-color: #666;\n",
              "  }\n",
              "\n",
              "  .colab-df-quickchart {\n",
              "    background-color: var(--bg-color);\n",
              "    border: none;\n",
              "    border-radius: 50%;\n",
              "    cursor: pointer;\n",
              "    display: none;\n",
              "    fill: var(--fill-color);\n",
              "    height: 32px;\n",
              "    padding: 0;\n",
              "    width: 32px;\n",
              "  }\n",
              "\n",
              "  .colab-df-quickchart:hover {\n",
              "    background-color: var(--hover-bg-color);\n",
              "    box-shadow: 0 1px 2px rgba(60, 64, 67, 0.3), 0 1px 3px 1px rgba(60, 64, 67, 0.15);\n",
              "    fill: var(--button-hover-fill-color);\n",
              "  }\n",
              "\n",
              "  .colab-df-quickchart-complete:disabled,\n",
              "  .colab-df-quickchart-complete:disabled:hover {\n",
              "    background-color: var(--disabled-bg-color);\n",
              "    fill: var(--disabled-fill-color);\n",
              "    box-shadow: none;\n",
              "  }\n",
              "\n",
              "  .colab-df-spinner {\n",
              "    border: 2px solid var(--fill-color);\n",
              "    border-color: transparent;\n",
              "    border-bottom-color: var(--fill-color);\n",
              "    animation:\n",
              "      spin 1s steps(1) infinite;\n",
              "  }\n",
              "\n",
              "  @keyframes spin {\n",
              "    0% {\n",
              "      border-color: transparent;\n",
              "      border-bottom-color: var(--fill-color);\n",
              "      border-left-color: var(--fill-color);\n",
              "    }\n",
              "    20% {\n",
              "      border-color: transparent;\n",
              "      border-left-color: var(--fill-color);\n",
              "      border-top-color: var(--fill-color);\n",
              "    }\n",
              "    30% {\n",
              "      border-color: transparent;\n",
              "      border-left-color: var(--fill-color);\n",
              "      border-top-color: var(--fill-color);\n",
              "      border-right-color: var(--fill-color);\n",
              "    }\n",
              "    40% {\n",
              "      border-color: transparent;\n",
              "      border-right-color: var(--fill-color);\n",
              "      border-top-color: var(--fill-color);\n",
              "    }\n",
              "    60% {\n",
              "      border-color: transparent;\n",
              "      border-right-color: var(--fill-color);\n",
              "    }\n",
              "    80% {\n",
              "      border-color: transparent;\n",
              "      border-right-color: var(--fill-color);\n",
              "      border-bottom-color: var(--fill-color);\n",
              "    }\n",
              "    90% {\n",
              "      border-color: transparent;\n",
              "      border-bottom-color: var(--fill-color);\n",
              "    }\n",
              "  }\n",
              "</style>\n",
              "\n",
              "      <script>\n",
              "        async function quickchart(key) {\n",
              "          const quickchartButtonEl =\n",
              "            document.querySelector('#' + key + ' button');\n",
              "          quickchartButtonEl.disabled = true;  // To prevent multiple clicks.\n",
              "          quickchartButtonEl.classList.add('colab-df-spinner');\n",
              "          try {\n",
              "            const charts = await google.colab.kernel.invokeFunction(\n",
              "                'suggestCharts', [key], {});\n",
              "          } catch (error) {\n",
              "            console.error('Error during call to suggestCharts:', error);\n",
              "          }\n",
              "          quickchartButtonEl.classList.remove('colab-df-spinner');\n",
              "          quickchartButtonEl.classList.add('colab-df-quickchart-complete');\n",
              "        }\n",
              "        (() => {\n",
              "          let quickchartButtonEl =\n",
              "            document.querySelector('#df-5f1a192b-7ccd-44c7-8f88-67690757e1f9 button');\n",
              "          quickchartButtonEl.style.display =\n",
              "            google.colab.kernel.accessAllowed ? 'block' : 'none';\n",
              "        })();\n",
              "      </script>\n",
              "    </div>\n",
              "\n",
              "  <div id=\"id_781f2fa2-bb69-48f1-acf8-d400381eaccf\">\n",
              "    <style>\n",
              "      .colab-df-generate {\n",
              "        background-color: #E8F0FE;\n",
              "        border: none;\n",
              "        border-radius: 50%;\n",
              "        cursor: pointer;\n",
              "        display: none;\n",
              "        fill: #1967D2;\n",
              "        height: 32px;\n",
              "        padding: 0 0 0 0;\n",
              "        width: 32px;\n",
              "      }\n",
              "\n",
              "      .colab-df-generate:hover {\n",
              "        background-color: #E2EBFA;\n",
              "        box-shadow: 0px 1px 2px rgba(60, 64, 67, 0.3), 0px 1px 3px 1px rgba(60, 64, 67, 0.15);\n",
              "        fill: #174EA6;\n",
              "      }\n",
              "\n",
              "      [theme=dark] .colab-df-generate {\n",
              "        background-color: #3B4455;\n",
              "        fill: #D2E3FC;\n",
              "      }\n",
              "\n",
              "      [theme=dark] .colab-df-generate:hover {\n",
              "        background-color: #434B5C;\n",
              "        box-shadow: 0px 1px 3px 1px rgba(0, 0, 0, 0.15);\n",
              "        filter: drop-shadow(0px 1px 2px rgba(0, 0, 0, 0.3));\n",
              "        fill: #FFFFFF;\n",
              "      }\n",
              "    </style>\n",
              "    <button class=\"colab-df-generate\" onclick=\"generateWithVariable('df')\"\n",
              "            title=\"Generate code using this dataframe.\"\n",
              "            style=\"display:none;\">\n",
              "\n",
              "  <svg xmlns=\"http://www.w3.org/2000/svg\" height=\"24px\"viewBox=\"0 0 24 24\"\n",
              "       width=\"24px\">\n",
              "    <path d=\"M7,19H8.4L18.45,9,17,7.55,7,17.6ZM5,21V16.75L18.45,3.32a2,2,0,0,1,2.83,0l1.4,1.43a1.91,1.91,0,0,1,.58,1.4,1.91,1.91,0,0,1-.58,1.4L9.25,21ZM18.45,9,17,7.55Zm-12,3A5.31,5.31,0,0,0,4.9,8.1,5.31,5.31,0,0,0,1,6.5,5.31,5.31,0,0,0,4.9,4.9,5.31,5.31,0,0,0,6.5,1,5.31,5.31,0,0,0,8.1,4.9,5.31,5.31,0,0,0,12,6.5,5.46,5.46,0,0,0,6.5,12Z\"/>\n",
              "  </svg>\n",
              "    </button>\n",
              "    <script>\n",
              "      (() => {\n",
              "      const buttonEl =\n",
              "        document.querySelector('#id_781f2fa2-bb69-48f1-acf8-d400381eaccf button.colab-df-generate');\n",
              "      buttonEl.style.display =\n",
              "        google.colab.kernel.accessAllowed ? 'block' : 'none';\n",
              "\n",
              "      buttonEl.onclick = () => {\n",
              "        google.colab.notebook.generateWithVariable('df');\n",
              "      }\n",
              "      })();\n",
              "    </script>\n",
              "  </div>\n",
              "\n",
              "    </div>\n",
              "  </div>\n"
            ],
            "application/vnd.google.colaboratory.intrinsic+json": {
              "type": "dataframe",
              "variable_name": "df",
              "summary": "{\n  \"name\": \"df\",\n  \"rows\": 6745,\n  \"fields\": [\n    {\n      \"column\": \"Request_ID\",\n      \"properties\": {\n        \"dtype\": \"number\",\n        \"std\": 1955,\n        \"min\": 1,\n        \"max\": 6766,\n        \"num_unique_values\": 6745,\n        \"samples\": [\n          2761,\n          1342,\n          44\n        ],\n        \"semantic_type\": \"\",\n        \"description\": \"\"\n      }\n    },\n    {\n      \"column\": \"Pickup_point\",\n      \"properties\": {\n        \"dtype\": \"category\",\n        \"num_unique_values\": 2,\n        \"samples\": [\n          \"City\",\n          \"Airport\"\n        ],\n        \"semantic_type\": \"\",\n        \"description\": \"\"\n      }\n    },\n    {\n      \"column\": \"Driver_ID\",\n      \"properties\": {\n        \"dtype\": \"number\",\n        \"std\": 86.05199423275745,\n        \"min\": 1.0,\n        \"max\": 300.0,\n        \"num_unique_values\": 300,\n        \"samples\": [\n          204.0,\n          267.0\n        ],\n        \"semantic_type\": \"\",\n        \"description\": \"\"\n      }\n    },\n    {\n      \"column\": \"Status\",\n      \"properties\": {\n        \"dtype\": \"category\",\n        \"num_unique_values\": 3,\n        \"samples\": [\n          \"Trip Completed\",\n          \"Cancelled\"\n        ],\n        \"semantic_type\": \"\",\n        \"description\": \"\"\n      }\n    },\n    {\n      \"column\": \"Request_timestamp\",\n      \"properties\": {\n        \"dtype\": \"date\",\n        \"min\": \"2016-07-11 00:00:00\",\n        \"max\": \"2016-07-15 23:59:58\",\n        \"num_unique_values\": 5618,\n        \"samples\": [\n          \"2016-07-13 08:33:01\",\n          \"2016-07-14 08:06:48\"\n        ],\n        \"semantic_type\": \"\",\n        \"description\": \"\"\n      }\n    },\n    {\n      \"column\": \"Drop_timestamp\",\n      \"properties\": {\n        \"dtype\": \"date\",\n        \"min\": \"2016-07-11 00:51:00\",\n        \"max\": \"2016-07-16 01:09:24\",\n        \"num_unique_values\": 2598,\n        \"samples\": [\n          \"2016-07-15 06:50:02\",\n          \"2016-07-13 16:11:42\"\n        ],\n        \"semantic_type\": \"\",\n        \"description\": \"\"\n      }\n    },\n    {\n      \"column\": \"Trip_duration_min\",\n      \"properties\": {\n        \"dtype\": \"number\",\n        \"std\": 13.850118315792262,\n        \"min\": 20.8,\n        \"max\": 83.0,\n        \"num_unique_values\": 522,\n        \"samples\": [\n          79.6,\n          59.3\n        ],\n        \"semantic_type\": \"\",\n        \"description\": \"\"\n      }\n    },\n    {\n      \"column\": \"Request_date\",\n      \"properties\": {\n        \"dtype\": \"date\",\n        \"min\": \"2016-07-11 00:00:00\",\n        \"max\": \"2016-07-15 00:00:00\",\n        \"num_unique_values\": 5,\n        \"samples\": [\n          \"2016-07-12 00:00:00\",\n          \"2016-07-15 00:00:00\"\n        ],\n        \"semantic_type\": \"\",\n        \"description\": \"\"\n      }\n    }\n  ]\n}"
            }
          },
          "metadata": {},
          "execution_count": 8
        }
      ]
    },
    {
      "cell_type": "markdown",
      "source": [
        "Dataset Rows and Column count"
      ],
      "metadata": {
        "id": "orGMjlZ6rb-6"
      }
    },
    {
      "cell_type": "code",
      "source": [
        "df.shape"
      ],
      "metadata": {
        "colab": {
          "base_uri": "https://localhost:8080/"
        },
        "id": "2BqeGHyxrhnz",
        "outputId": "751a33df-269e-46a2-fa48-4b89d5ac526e"
      },
      "execution_count": null,
      "outputs": [
        {
          "output_type": "execute_result",
          "data": {
            "text/plain": [
              "(6745, 8)"
            ]
          },
          "metadata": {},
          "execution_count": 9
        }
      ]
    },
    {
      "cell_type": "code",
      "source": [
        "df.info"
      ],
      "metadata": {
        "colab": {
          "base_uri": "https://localhost:8080/",
          "height": 203
        },
        "id": "_mNRofgBrpUT",
        "outputId": "060c8b33-5d51-460e-e1d0-ed0dffcc6efa"
      },
      "execution_count": null,
      "outputs": [
        {
          "output_type": "execute_result",
          "data": {
            "text/plain": [
              "<bound method DataFrame.info of       Request_ID Pickup_point  Driver_ID             Status  \\\n",
              "0            619      Airport        1.0     Trip Completed   \n",
              "1            867      Airport        1.0     Trip Completed   \n",
              "2           1807         City        1.0     Trip Completed   \n",
              "3           2532      Airport        1.0     Trip Completed   \n",
              "4           3112         City        1.0     Trip Completed   \n",
              "...          ...          ...        ...                ...   \n",
              "6740        6745         City        NaN  No Cars Available   \n",
              "6741        6752      Airport        NaN  No Cars Available   \n",
              "6742        6751         City        NaN  No Cars Available   \n",
              "6743        6754         City        NaN  No Cars Available   \n",
              "6744        6753      Airport        NaN  No Cars Available   \n",
              "\n",
              "       Request_timestamp      Drop_timestamp  Trip_duration_min Request_date  \n",
              "0    2016-07-11 11:51:00 2016-07-11 13:00:00               69.0   2016-07-11  \n",
              "1    2016-07-11 17:57:00 2016-07-11 18:47:00               50.0   2016-07-11  \n",
              "2    2016-07-12 09:17:00 2016-07-12 09:58:00               41.0   2016-07-12  \n",
              "3    2016-07-12 21:08:00 2016-07-12 22:03:00               55.0   2016-07-12  \n",
              "4    2016-07-13 08:33:16 2016-07-13 09:25:47               52.5   2016-07-13  \n",
              "...                  ...                 ...                ...          ...  \n",
              "6740 2016-07-15 23:49:03                 NaT                NaN   2016-07-15  \n",
              "6741 2016-07-15 23:50:05                 NaT                NaN   2016-07-15  \n",
              "6742 2016-07-15 23:52:06                 NaT                NaN   2016-07-15  \n",
              "6743 2016-07-15 23:54:39                 NaT                NaN   2016-07-15  \n",
              "6744 2016-07-15 23:55:03                 NaT                NaN   2016-07-15  \n",
              "\n",
              "[6745 rows x 8 columns]>"
            ],
            "text/html": [
              "<div style=\"max-width:800px; border: 1px solid var(--colab-border-color);\"><style>\n",
              "      pre.function-repr-contents {\n",
              "        overflow-x: auto;\n",
              "        padding: 8px 12px;\n",
              "        max-height: 500px;\n",
              "      }\n",
              "\n",
              "      pre.function-repr-contents.function-repr-contents-collapsed {\n",
              "        cursor: pointer;\n",
              "        max-height: 100px;\n",
              "      }\n",
              "    </style>\n",
              "    <pre style=\"white-space: initial; background:\n",
              "         var(--colab-secondary-surface-color); padding: 8px 12px;\n",
              "         border-bottom: 1px solid var(--colab-border-color);\"><b>pandas.core.frame.DataFrame.info</b><br/>def info(verbose: bool | None=None, buf: WriteBuffer[str] | None=None, max_cols: int | None=None, memory_usage: bool | str | None=None, show_counts: bool | None=None) -&gt; None</pre><pre class=\"function-repr-contents function-repr-contents-collapsed\" style=\"\"><a class=\"filepath\" style=\"display:none\" href=\"#\">/usr/local/lib/python3.11/dist-packages/pandas/core/frame.py</a>Print a concise summary of a DataFrame.\n",
              "\n",
              "This method prints information about a DataFrame including\n",
              "the index dtype and columns, non-null values and memory usage.\n",
              "\n",
              "Parameters\n",
              "----------\n",
              "verbose : bool, optional\n",
              "    Whether to print the full summary. By default, the setting in\n",
              "    ``pandas.options.display.max_info_columns`` is followed.\n",
              "buf : writable buffer, defaults to sys.stdout\n",
              "    Where to send the output. By default, the output is printed to\n",
              "    sys.stdout. Pass a writable buffer if you need to further process\n",
              "    the output.\n",
              "max_cols : int, optional\n",
              "    When to switch from the verbose to the truncated output. If the\n",
              "    DataFrame has more than `max_cols` columns, the truncated output\n",
              "    is used. By default, the setting in\n",
              "    ``pandas.options.display.max_info_columns`` is used.\n",
              "memory_usage : bool, str, optional\n",
              "    Specifies whether total memory usage of the DataFrame\n",
              "    elements (including the index) should be displayed. By default,\n",
              "    this follows the ``pandas.options.display.memory_usage`` setting.\n",
              "\n",
              "    True always show memory usage. False never shows memory usage.\n",
              "    A value of &#x27;deep&#x27; is equivalent to &quot;True with deep introspection&quot;.\n",
              "    Memory usage is shown in human-readable units (base-2\n",
              "    representation). Without deep introspection a memory estimation is\n",
              "    made based in column dtype and number of rows assuming values\n",
              "    consume the same memory amount for corresponding dtypes. With deep\n",
              "    memory introspection, a real memory usage calculation is performed\n",
              "    at the cost of computational resources. See the\n",
              "    :ref:`Frequently Asked Questions &lt;df-memory-usage&gt;` for more\n",
              "    details.\n",
              "show_counts : bool, optional\n",
              "    Whether to show the non-null counts. By default, this is shown\n",
              "    only if the DataFrame is smaller than\n",
              "    ``pandas.options.display.max_info_rows`` and\n",
              "    ``pandas.options.display.max_info_columns``. A value of True always\n",
              "    shows the counts, and False never shows the counts.\n",
              "\n",
              "Returns\n",
              "-------\n",
              "None\n",
              "    This method prints a summary of a DataFrame and returns None.\n",
              "\n",
              "See Also\n",
              "--------\n",
              "DataFrame.describe: Generate descriptive statistics of DataFrame\n",
              "    columns.\n",
              "DataFrame.memory_usage: Memory usage of DataFrame columns.\n",
              "\n",
              "Examples\n",
              "--------\n",
              "&gt;&gt;&gt; int_values = [1, 2, 3, 4, 5]\n",
              "&gt;&gt;&gt; text_values = [&#x27;alpha&#x27;, &#x27;beta&#x27;, &#x27;gamma&#x27;, &#x27;delta&#x27;, &#x27;epsilon&#x27;]\n",
              "&gt;&gt;&gt; float_values = [0.0, 0.25, 0.5, 0.75, 1.0]\n",
              "&gt;&gt;&gt; df = pd.DataFrame({&quot;int_col&quot;: int_values, &quot;text_col&quot;: text_values,\n",
              "...                   &quot;float_col&quot;: float_values})\n",
              "&gt;&gt;&gt; df\n",
              "    int_col text_col  float_col\n",
              "0        1    alpha       0.00\n",
              "1        2     beta       0.25\n",
              "2        3    gamma       0.50\n",
              "3        4    delta       0.75\n",
              "4        5  epsilon       1.00\n",
              "\n",
              "Prints information of all columns:\n",
              "\n",
              "&gt;&gt;&gt; df.info(verbose=True)\n",
              "&lt;class &#x27;pandas.core.frame.DataFrame&#x27;&gt;\n",
              "RangeIndex: 5 entries, 0 to 4\n",
              "Data columns (total 3 columns):\n",
              " #   Column     Non-Null Count  Dtype\n",
              "---  ------     --------------  -----\n",
              " 0   int_col    5 non-null      int64\n",
              " 1   text_col   5 non-null      object\n",
              " 2   float_col  5 non-null      float64\n",
              "dtypes: float64(1), int64(1), object(1)\n",
              "memory usage: 248.0+ bytes\n",
              "\n",
              "Prints a summary of columns count and its dtypes but not per column\n",
              "information:\n",
              "\n",
              "&gt;&gt;&gt; df.info(verbose=False)\n",
              "&lt;class &#x27;pandas.core.frame.DataFrame&#x27;&gt;\n",
              "RangeIndex: 5 entries, 0 to 4\n",
              "Columns: 3 entries, int_col to float_col\n",
              "dtypes: float64(1), int64(1), object(1)\n",
              "memory usage: 248.0+ bytes\n",
              "\n",
              "Pipe output of DataFrame.info to buffer instead of sys.stdout, get\n",
              "buffer content and writes to a text file:\n",
              "\n",
              "&gt;&gt;&gt; import io\n",
              "&gt;&gt;&gt; buffer = io.StringIO()\n",
              "&gt;&gt;&gt; df.info(buf=buffer)\n",
              "&gt;&gt;&gt; s = buffer.getvalue()\n",
              "&gt;&gt;&gt; with open(&quot;df_info.txt&quot;, &quot;w&quot;,\n",
              "...           encoding=&quot;utf-8&quot;) as f:  # doctest: +SKIP\n",
              "...     f.write(s)\n",
              "260\n",
              "\n",
              "The `memory_usage` parameter allows deep introspection mode, specially\n",
              "useful for big DataFrames and fine-tune memory optimization:\n",
              "\n",
              "&gt;&gt;&gt; random_strings_array = np.random.choice([&#x27;a&#x27;, &#x27;b&#x27;, &#x27;c&#x27;], 10 ** 6)\n",
              "&gt;&gt;&gt; df = pd.DataFrame({\n",
              "...     &#x27;column_1&#x27;: np.random.choice([&#x27;a&#x27;, &#x27;b&#x27;, &#x27;c&#x27;], 10 ** 6),\n",
              "...     &#x27;column_2&#x27;: np.random.choice([&#x27;a&#x27;, &#x27;b&#x27;, &#x27;c&#x27;], 10 ** 6),\n",
              "...     &#x27;column_3&#x27;: np.random.choice([&#x27;a&#x27;, &#x27;b&#x27;, &#x27;c&#x27;], 10 ** 6)\n",
              "... })\n",
              "&gt;&gt;&gt; df.info()\n",
              "&lt;class &#x27;pandas.core.frame.DataFrame&#x27;&gt;\n",
              "RangeIndex: 1000000 entries, 0 to 999999\n",
              "Data columns (total 3 columns):\n",
              " #   Column    Non-Null Count    Dtype\n",
              "---  ------    --------------    -----\n",
              " 0   column_1  1000000 non-null  object\n",
              " 1   column_2  1000000 non-null  object\n",
              " 2   column_3  1000000 non-null  object\n",
              "dtypes: object(3)\n",
              "memory usage: 22.9+ MB\n",
              "\n",
              "&gt;&gt;&gt; df.info(memory_usage=&#x27;deep&#x27;)\n",
              "&lt;class &#x27;pandas.core.frame.DataFrame&#x27;&gt;\n",
              "RangeIndex: 1000000 entries, 0 to 999999\n",
              "Data columns (total 3 columns):\n",
              " #   Column    Non-Null Count    Dtype\n",
              "---  ------    --------------    -----\n",
              " 0   column_1  1000000 non-null  object\n",
              " 1   column_2  1000000 non-null  object\n",
              " 2   column_3  1000000 non-null  object\n",
              "dtypes: object(3)\n",
              "memory usage: 165.9 MB</pre>\n",
              "      <script>\n",
              "      if (google.colab.kernel.accessAllowed && google.colab.files && google.colab.files.view) {\n",
              "        for (const element of document.querySelectorAll('.filepath')) {\n",
              "          element.style.display = 'block'\n",
              "          element.onclick = (event) => {\n",
              "            event.preventDefault();\n",
              "            event.stopPropagation();\n",
              "            google.colab.files.view(element.textContent, 3646);\n",
              "          };\n",
              "        }\n",
              "      }\n",
              "      for (const element of document.querySelectorAll('.function-repr-contents')) {\n",
              "        element.onclick = (event) => {\n",
              "          event.preventDefault();\n",
              "          event.stopPropagation();\n",
              "          element.classList.toggle('function-repr-contents-collapsed');\n",
              "        };\n",
              "      }\n",
              "      </script>\n",
              "      </div>"
            ]
          },
          "metadata": {},
          "execution_count": 10
        }
      ]
    },
    {
      "cell_type": "markdown",
      "source": [
        "Dataset information"
      ],
      "metadata": {
        "id": "gPlPfMYzr9Lo"
      }
    },
    {
      "cell_type": "markdown",
      "source": [
        "Request_ID: Unique identifier for each ride request\n",
        "\n",
        "Driver_ID: Identifier of the driver who accepted the trip (if assigned)\n",
        "\n",
        "Status: Final outcome of the request: Trip Completed, Cancelled, or No Cars Available\n",
        "\n",
        "Pickup Point: Location of pickup: either City or Airport\n",
        "\n",
        "Request Timestamp: Date and time when the ride was requested\n",
        "\n",
        "Drop Timestamp: Date and time when the trip ended (if completed)\n",
        "\n",
        "Trip Duration: Duration of completed trips (in minutes)"
      ],
      "metadata": {
        "id": "pucpT3_NsUES"
      }
    },
    {
      "cell_type": "markdown",
      "source": [
        "Missing Values/Null Values"
      ],
      "metadata": {
        "id": "_lVtvM4utYGC"
      }
    },
    {
      "cell_type": "code",
      "source": [
        "df.isnull().sum()"
      ],
      "metadata": {
        "colab": {
          "base_uri": "https://localhost:8080/",
          "height": 335
        },
        "id": "CVDBkGcstbO9",
        "outputId": "22186125-3b55-4e5f-9eaa-d949654e4def"
      },
      "execution_count": null,
      "outputs": [
        {
          "output_type": "execute_result",
          "data": {
            "text/plain": [
              "Request_ID              0\n",
              "Pickup_point            0\n",
              "Driver_ID            2650\n",
              "Status                  0\n",
              "Request_timestamp       0\n",
              "Drop_timestamp       3914\n",
              "Trip_duration_min    3914\n",
              "Request_date            0\n",
              "dtype: int64"
            ],
            "text/html": [
              "<div>\n",
              "<style scoped>\n",
              "    .dataframe tbody tr th:only-of-type {\n",
              "        vertical-align: middle;\n",
              "    }\n",
              "\n",
              "    .dataframe tbody tr th {\n",
              "        vertical-align: top;\n",
              "    }\n",
              "\n",
              "    .dataframe thead th {\n",
              "        text-align: right;\n",
              "    }\n",
              "</style>\n",
              "<table border=\"1\" class=\"dataframe\">\n",
              "  <thead>\n",
              "    <tr style=\"text-align: right;\">\n",
              "      <th></th>\n",
              "      <th>0</th>\n",
              "    </tr>\n",
              "  </thead>\n",
              "  <tbody>\n",
              "    <tr>\n",
              "      <th>Request_ID</th>\n",
              "      <td>0</td>\n",
              "    </tr>\n",
              "    <tr>\n",
              "      <th>Pickup_point</th>\n",
              "      <td>0</td>\n",
              "    </tr>\n",
              "    <tr>\n",
              "      <th>Driver_ID</th>\n",
              "      <td>2650</td>\n",
              "    </tr>\n",
              "    <tr>\n",
              "      <th>Status</th>\n",
              "      <td>0</td>\n",
              "    </tr>\n",
              "    <tr>\n",
              "      <th>Request_timestamp</th>\n",
              "      <td>0</td>\n",
              "    </tr>\n",
              "    <tr>\n",
              "      <th>Drop_timestamp</th>\n",
              "      <td>3914</td>\n",
              "    </tr>\n",
              "    <tr>\n",
              "      <th>Trip_duration_min</th>\n",
              "      <td>3914</td>\n",
              "    </tr>\n",
              "    <tr>\n",
              "      <th>Request_date</th>\n",
              "      <td>0</td>\n",
              "    </tr>\n",
              "  </tbody>\n",
              "</table>\n",
              "</div><br><label><b>dtype:</b> int64</label>"
            ]
          },
          "metadata": {},
          "execution_count": 11
        }
      ]
    },
    {
      "cell_type": "markdown",
      "source": [
        "Check for duplicated values"
      ],
      "metadata": {
        "id": "NXKlSAjhua5E"
      }
    },
    {
      "cell_type": "code",
      "source": [
        "df.duplicated().sum()"
      ],
      "metadata": {
        "colab": {
          "base_uri": "https://localhost:8080/"
        },
        "id": "R8PAHPuvuUNe",
        "outputId": "2f1aedeb-8515-4af6-df43-e45d425e4161"
      },
      "execution_count": null,
      "outputs": [
        {
          "output_type": "execute_result",
          "data": {
            "text/plain": [
              "np.int64(0)"
            ]
          },
          "metadata": {},
          "execution_count": 12
        }
      ]
    },
    {
      "cell_type": "code",
      "source": [
        "df.dtypes"
      ],
      "metadata": {
        "colab": {
          "base_uri": "https://localhost:8080/",
          "height": 335
        },
        "id": "ehjhfBwIuoz3",
        "outputId": "ffc1cf72-5b6f-42ac-af4b-d5d07d33fa0e"
      },
      "execution_count": null,
      "outputs": [
        {
          "output_type": "execute_result",
          "data": {
            "text/plain": [
              "Request_ID                    int64\n",
              "Pickup_point                 object\n",
              "Driver_ID                   float64\n",
              "Status                       object\n",
              "Request_timestamp    datetime64[ns]\n",
              "Drop_timestamp       datetime64[ns]\n",
              "Trip_duration_min           float64\n",
              "Request_date         datetime64[ns]\n",
              "dtype: object"
            ],
            "text/html": [
              "<div>\n",
              "<style scoped>\n",
              "    .dataframe tbody tr th:only-of-type {\n",
              "        vertical-align: middle;\n",
              "    }\n",
              "\n",
              "    .dataframe tbody tr th {\n",
              "        vertical-align: top;\n",
              "    }\n",
              "\n",
              "    .dataframe thead th {\n",
              "        text-align: right;\n",
              "    }\n",
              "</style>\n",
              "<table border=\"1\" class=\"dataframe\">\n",
              "  <thead>\n",
              "    <tr style=\"text-align: right;\">\n",
              "      <th></th>\n",
              "      <th>0</th>\n",
              "    </tr>\n",
              "  </thead>\n",
              "  <tbody>\n",
              "    <tr>\n",
              "      <th>Request_ID</th>\n",
              "      <td>int64</td>\n",
              "    </tr>\n",
              "    <tr>\n",
              "      <th>Pickup_point</th>\n",
              "      <td>object</td>\n",
              "    </tr>\n",
              "    <tr>\n",
              "      <th>Driver_ID</th>\n",
              "      <td>float64</td>\n",
              "    </tr>\n",
              "    <tr>\n",
              "      <th>Status</th>\n",
              "      <td>object</td>\n",
              "    </tr>\n",
              "    <tr>\n",
              "      <th>Request_timestamp</th>\n",
              "      <td>datetime64[ns]</td>\n",
              "    </tr>\n",
              "    <tr>\n",
              "      <th>Drop_timestamp</th>\n",
              "      <td>datetime64[ns]</td>\n",
              "    </tr>\n",
              "    <tr>\n",
              "      <th>Trip_duration_min</th>\n",
              "      <td>float64</td>\n",
              "    </tr>\n",
              "    <tr>\n",
              "      <th>Request_date</th>\n",
              "      <td>datetime64[ns]</td>\n",
              "    </tr>\n",
              "  </tbody>\n",
              "</table>\n",
              "</div><br><label><b>dtype:</b> object</label>"
            ]
          },
          "metadata": {},
          "execution_count": 13
        }
      ]
    },
    {
      "cell_type": "code",
      "source": [
        "df.describe()"
      ],
      "metadata": {
        "colab": {
          "base_uri": "https://localhost:8080/",
          "height": 300
        },
        "id": "TPZ59N3murb_",
        "outputId": "19928780-6dee-49f9-a2ba-731a06d977fa"
      },
      "execution_count": null,
      "outputs": [
        {
          "output_type": "execute_result",
          "data": {
            "text/plain": [
              "        Request_ID    Driver_ID              Request_timestamp  \\\n",
              "count  6745.000000  4095.000000                           6745   \n",
              "mean   3384.644922   149.501343  2016-07-13 13:43:04.303039232   \n",
              "min       1.000000     1.000000            2016-07-11 00:00:00   \n",
              "25%    1691.000000    75.000000            2016-07-12 07:51:00   \n",
              "50%    3387.000000   149.000000            2016-07-13 14:23:37   \n",
              "75%    5080.000000   224.000000            2016-07-14 19:39:27   \n",
              "max    6766.000000   300.000000            2016-07-15 23:59:58   \n",
              "std    1955.099667    86.051994                            NaN   \n",
              "\n",
              "                      Drop_timestamp  Trip_duration_min  \\\n",
              "count                           2831        2831.000000   \n",
              "mean   2016-07-13 13:15:33.899328768          52.413423   \n",
              "min              2016-07-11 00:51:00          20.800000   \n",
              "25%              2016-07-12 07:42:00          41.000000   \n",
              "50%              2016-07-13 12:14:06          52.100000   \n",
              "75%              2016-07-14 19:13:52          64.000000   \n",
              "max              2016-07-16 01:09:24          83.000000   \n",
              "std                              NaN          13.850118   \n",
              "\n",
              "                        Request_date  \n",
              "count                           6745  \n",
              "mean   2016-07-13 00:15:47.902149376  \n",
              "min              2016-07-11 00:00:00  \n",
              "25%              2016-07-12 00:00:00  \n",
              "50%              2016-07-13 00:00:00  \n",
              "75%              2016-07-14 00:00:00  \n",
              "max              2016-07-15 00:00:00  \n",
              "std                              NaN  "
            ],
            "text/html": [
              "\n",
              "  <div id=\"df-115bd3ec-0c97-4e97-8038-23ab1eafe9ab\" class=\"colab-df-container\">\n",
              "    <div>\n",
              "<style scoped>\n",
              "    .dataframe tbody tr th:only-of-type {\n",
              "        vertical-align: middle;\n",
              "    }\n",
              "\n",
              "    .dataframe tbody tr th {\n",
              "        vertical-align: top;\n",
              "    }\n",
              "\n",
              "    .dataframe thead th {\n",
              "        text-align: right;\n",
              "    }\n",
              "</style>\n",
              "<table border=\"1\" class=\"dataframe\">\n",
              "  <thead>\n",
              "    <tr style=\"text-align: right;\">\n",
              "      <th></th>\n",
              "      <th>Request_ID</th>\n",
              "      <th>Driver_ID</th>\n",
              "      <th>Request_timestamp</th>\n",
              "      <th>Drop_timestamp</th>\n",
              "      <th>Trip_duration_min</th>\n",
              "      <th>Request_date</th>\n",
              "    </tr>\n",
              "  </thead>\n",
              "  <tbody>\n",
              "    <tr>\n",
              "      <th>count</th>\n",
              "      <td>6745.000000</td>\n",
              "      <td>4095.000000</td>\n",
              "      <td>6745</td>\n",
              "      <td>2831</td>\n",
              "      <td>2831.000000</td>\n",
              "      <td>6745</td>\n",
              "    </tr>\n",
              "    <tr>\n",
              "      <th>mean</th>\n",
              "      <td>3384.644922</td>\n",
              "      <td>149.501343</td>\n",
              "      <td>2016-07-13 13:43:04.303039232</td>\n",
              "      <td>2016-07-13 13:15:33.899328768</td>\n",
              "      <td>52.413423</td>\n",
              "      <td>2016-07-13 00:15:47.902149376</td>\n",
              "    </tr>\n",
              "    <tr>\n",
              "      <th>min</th>\n",
              "      <td>1.000000</td>\n",
              "      <td>1.000000</td>\n",
              "      <td>2016-07-11 00:00:00</td>\n",
              "      <td>2016-07-11 00:51:00</td>\n",
              "      <td>20.800000</td>\n",
              "      <td>2016-07-11 00:00:00</td>\n",
              "    </tr>\n",
              "    <tr>\n",
              "      <th>25%</th>\n",
              "      <td>1691.000000</td>\n",
              "      <td>75.000000</td>\n",
              "      <td>2016-07-12 07:51:00</td>\n",
              "      <td>2016-07-12 07:42:00</td>\n",
              "      <td>41.000000</td>\n",
              "      <td>2016-07-12 00:00:00</td>\n",
              "    </tr>\n",
              "    <tr>\n",
              "      <th>50%</th>\n",
              "      <td>3387.000000</td>\n",
              "      <td>149.000000</td>\n",
              "      <td>2016-07-13 14:23:37</td>\n",
              "      <td>2016-07-13 12:14:06</td>\n",
              "      <td>52.100000</td>\n",
              "      <td>2016-07-13 00:00:00</td>\n",
              "    </tr>\n",
              "    <tr>\n",
              "      <th>75%</th>\n",
              "      <td>5080.000000</td>\n",
              "      <td>224.000000</td>\n",
              "      <td>2016-07-14 19:39:27</td>\n",
              "      <td>2016-07-14 19:13:52</td>\n",
              "      <td>64.000000</td>\n",
              "      <td>2016-07-14 00:00:00</td>\n",
              "    </tr>\n",
              "    <tr>\n",
              "      <th>max</th>\n",
              "      <td>6766.000000</td>\n",
              "      <td>300.000000</td>\n",
              "      <td>2016-07-15 23:59:58</td>\n",
              "      <td>2016-07-16 01:09:24</td>\n",
              "      <td>83.000000</td>\n",
              "      <td>2016-07-15 00:00:00</td>\n",
              "    </tr>\n",
              "    <tr>\n",
              "      <th>std</th>\n",
              "      <td>1955.099667</td>\n",
              "      <td>86.051994</td>\n",
              "      <td>NaN</td>\n",
              "      <td>NaN</td>\n",
              "      <td>13.850118</td>\n",
              "      <td>NaN</td>\n",
              "    </tr>\n",
              "  </tbody>\n",
              "</table>\n",
              "</div>\n",
              "    <div class=\"colab-df-buttons\">\n",
              "\n",
              "  <div class=\"colab-df-container\">\n",
              "    <button class=\"colab-df-convert\" onclick=\"convertToInteractive('df-115bd3ec-0c97-4e97-8038-23ab1eafe9ab')\"\n",
              "            title=\"Convert this dataframe to an interactive table.\"\n",
              "            style=\"display:none;\">\n",
              "\n",
              "  <svg xmlns=\"http://www.w3.org/2000/svg\" height=\"24px\" viewBox=\"0 -960 960 960\">\n",
              "    <path d=\"M120-120v-720h720v720H120Zm60-500h600v-160H180v160Zm220 220h160v-160H400v160Zm0 220h160v-160H400v160ZM180-400h160v-160H180v160Zm440 0h160v-160H620v160ZM180-180h160v-160H180v160Zm440 0h160v-160H620v160Z\"/>\n",
              "  </svg>\n",
              "    </button>\n",
              "\n",
              "  <style>\n",
              "    .colab-df-container {\n",
              "      display:flex;\n",
              "      gap: 12px;\n",
              "    }\n",
              "\n",
              "    .colab-df-convert {\n",
              "      background-color: #E8F0FE;\n",
              "      border: none;\n",
              "      border-radius: 50%;\n",
              "      cursor: pointer;\n",
              "      display: none;\n",
              "      fill: #1967D2;\n",
              "      height: 32px;\n",
              "      padding: 0 0 0 0;\n",
              "      width: 32px;\n",
              "    }\n",
              "\n",
              "    .colab-df-convert:hover {\n",
              "      background-color: #E2EBFA;\n",
              "      box-shadow: 0px 1px 2px rgba(60, 64, 67, 0.3), 0px 1px 3px 1px rgba(60, 64, 67, 0.15);\n",
              "      fill: #174EA6;\n",
              "    }\n",
              "\n",
              "    .colab-df-buttons div {\n",
              "      margin-bottom: 4px;\n",
              "    }\n",
              "\n",
              "    [theme=dark] .colab-df-convert {\n",
              "      background-color: #3B4455;\n",
              "      fill: #D2E3FC;\n",
              "    }\n",
              "\n",
              "    [theme=dark] .colab-df-convert:hover {\n",
              "      background-color: #434B5C;\n",
              "      box-shadow: 0px 1px 3px 1px rgba(0, 0, 0, 0.15);\n",
              "      filter: drop-shadow(0px 1px 2px rgba(0, 0, 0, 0.3));\n",
              "      fill: #FFFFFF;\n",
              "    }\n",
              "  </style>\n",
              "\n",
              "    <script>\n",
              "      const buttonEl =\n",
              "        document.querySelector('#df-115bd3ec-0c97-4e97-8038-23ab1eafe9ab button.colab-df-convert');\n",
              "      buttonEl.style.display =\n",
              "        google.colab.kernel.accessAllowed ? 'block' : 'none';\n",
              "\n",
              "      async function convertToInteractive(key) {\n",
              "        const element = document.querySelector('#df-115bd3ec-0c97-4e97-8038-23ab1eafe9ab');\n",
              "        const dataTable =\n",
              "          await google.colab.kernel.invokeFunction('convertToInteractive',\n",
              "                                                    [key], {});\n",
              "        if (!dataTable) return;\n",
              "\n",
              "        const docLinkHtml = 'Like what you see? Visit the ' +\n",
              "          '<a target=\"_blank\" href=https://colab.research.google.com/notebooks/data_table.ipynb>data table notebook</a>'\n",
              "          + ' to learn more about interactive tables.';\n",
              "        element.innerHTML = '';\n",
              "        dataTable['output_type'] = 'display_data';\n",
              "        await google.colab.output.renderOutput(dataTable, element);\n",
              "        const docLink = document.createElement('div');\n",
              "        docLink.innerHTML = docLinkHtml;\n",
              "        element.appendChild(docLink);\n",
              "      }\n",
              "    </script>\n",
              "  </div>\n",
              "\n",
              "\n",
              "    <div id=\"df-6f73b630-7e9a-4870-a0cc-e470c568e1bc\">\n",
              "      <button class=\"colab-df-quickchart\" onclick=\"quickchart('df-6f73b630-7e9a-4870-a0cc-e470c568e1bc')\"\n",
              "                title=\"Suggest charts\"\n",
              "                style=\"display:none;\">\n",
              "\n",
              "<svg xmlns=\"http://www.w3.org/2000/svg\" height=\"24px\"viewBox=\"0 0 24 24\"\n",
              "     width=\"24px\">\n",
              "    <g>\n",
              "        <path d=\"M19 3H5c-1.1 0-2 .9-2 2v14c0 1.1.9 2 2 2h14c1.1 0 2-.9 2-2V5c0-1.1-.9-2-2-2zM9 17H7v-7h2v7zm4 0h-2V7h2v10zm4 0h-2v-4h2v4z\"/>\n",
              "    </g>\n",
              "</svg>\n",
              "      </button>\n",
              "\n",
              "<style>\n",
              "  .colab-df-quickchart {\n",
              "      --bg-color: #E8F0FE;\n",
              "      --fill-color: #1967D2;\n",
              "      --hover-bg-color: #E2EBFA;\n",
              "      --hover-fill-color: #174EA6;\n",
              "      --disabled-fill-color: #AAA;\n",
              "      --disabled-bg-color: #DDD;\n",
              "  }\n",
              "\n",
              "  [theme=dark] .colab-df-quickchart {\n",
              "      --bg-color: #3B4455;\n",
              "      --fill-color: #D2E3FC;\n",
              "      --hover-bg-color: #434B5C;\n",
              "      --hover-fill-color: #FFFFFF;\n",
              "      --disabled-bg-color: #3B4455;\n",
              "      --disabled-fill-color: #666;\n",
              "  }\n",
              "\n",
              "  .colab-df-quickchart {\n",
              "    background-color: var(--bg-color);\n",
              "    border: none;\n",
              "    border-radius: 50%;\n",
              "    cursor: pointer;\n",
              "    display: none;\n",
              "    fill: var(--fill-color);\n",
              "    height: 32px;\n",
              "    padding: 0;\n",
              "    width: 32px;\n",
              "  }\n",
              "\n",
              "  .colab-df-quickchart:hover {\n",
              "    background-color: var(--hover-bg-color);\n",
              "    box-shadow: 0 1px 2px rgba(60, 64, 67, 0.3), 0 1px 3px 1px rgba(60, 64, 67, 0.15);\n",
              "    fill: var(--button-hover-fill-color);\n",
              "  }\n",
              "\n",
              "  .colab-df-quickchart-complete:disabled,\n",
              "  .colab-df-quickchart-complete:disabled:hover {\n",
              "    background-color: var(--disabled-bg-color);\n",
              "    fill: var(--disabled-fill-color);\n",
              "    box-shadow: none;\n",
              "  }\n",
              "\n",
              "  .colab-df-spinner {\n",
              "    border: 2px solid var(--fill-color);\n",
              "    border-color: transparent;\n",
              "    border-bottom-color: var(--fill-color);\n",
              "    animation:\n",
              "      spin 1s steps(1) infinite;\n",
              "  }\n",
              "\n",
              "  @keyframes spin {\n",
              "    0% {\n",
              "      border-color: transparent;\n",
              "      border-bottom-color: var(--fill-color);\n",
              "      border-left-color: var(--fill-color);\n",
              "    }\n",
              "    20% {\n",
              "      border-color: transparent;\n",
              "      border-left-color: var(--fill-color);\n",
              "      border-top-color: var(--fill-color);\n",
              "    }\n",
              "    30% {\n",
              "      border-color: transparent;\n",
              "      border-left-color: var(--fill-color);\n",
              "      border-top-color: var(--fill-color);\n",
              "      border-right-color: var(--fill-color);\n",
              "    }\n",
              "    40% {\n",
              "      border-color: transparent;\n",
              "      border-right-color: var(--fill-color);\n",
              "      border-top-color: var(--fill-color);\n",
              "    }\n",
              "    60% {\n",
              "      border-color: transparent;\n",
              "      border-right-color: var(--fill-color);\n",
              "    }\n",
              "    80% {\n",
              "      border-color: transparent;\n",
              "      border-right-color: var(--fill-color);\n",
              "      border-bottom-color: var(--fill-color);\n",
              "    }\n",
              "    90% {\n",
              "      border-color: transparent;\n",
              "      border-bottom-color: var(--fill-color);\n",
              "    }\n",
              "  }\n",
              "</style>\n",
              "\n",
              "      <script>\n",
              "        async function quickchart(key) {\n",
              "          const quickchartButtonEl =\n",
              "            document.querySelector('#' + key + ' button');\n",
              "          quickchartButtonEl.disabled = true;  // To prevent multiple clicks.\n",
              "          quickchartButtonEl.classList.add('colab-df-spinner');\n",
              "          try {\n",
              "            const charts = await google.colab.kernel.invokeFunction(\n",
              "                'suggestCharts', [key], {});\n",
              "          } catch (error) {\n",
              "            console.error('Error during call to suggestCharts:', error);\n",
              "          }\n",
              "          quickchartButtonEl.classList.remove('colab-df-spinner');\n",
              "          quickchartButtonEl.classList.add('colab-df-quickchart-complete');\n",
              "        }\n",
              "        (() => {\n",
              "          let quickchartButtonEl =\n",
              "            document.querySelector('#df-6f73b630-7e9a-4870-a0cc-e470c568e1bc button');\n",
              "          quickchartButtonEl.style.display =\n",
              "            google.colab.kernel.accessAllowed ? 'block' : 'none';\n",
              "        })();\n",
              "      </script>\n",
              "    </div>\n",
              "\n",
              "    </div>\n",
              "  </div>\n"
            ],
            "application/vnd.google.colaboratory.intrinsic+json": {
              "type": "dataframe",
              "summary": "{\n  \"name\": \"df\",\n  \"rows\": 8,\n  \"fields\": [\n    {\n      \"column\": \"Request_ID\",\n      \"properties\": {\n        \"dtype\": \"number\",\n        \"std\": 2434.690001275002,\n        \"min\": 1.0,\n        \"max\": 6766.0,\n        \"num_unique_values\": 8,\n        \"samples\": [\n          3384.644922164566,\n          5080.0,\n          6745.0\n        ],\n        \"semantic_type\": \"\",\n        \"description\": \"\"\n      }\n    },\n    {\n      \"column\": \"Driver_ID\",\n      \"properties\": {\n        \"dtype\": \"number\",\n        \"std\": 1401.099100907559,\n        \"min\": 1.0,\n        \"max\": 4095.0,\n        \"num_unique_values\": 8,\n        \"samples\": [\n          149.5013431013431,\n          224.0,\n          4095.0\n        ],\n        \"semantic_type\": \"\",\n        \"description\": \"\"\n      }\n    },\n    {\n      \"column\": \"Request_timestamp\",\n      \"properties\": {\n        \"dtype\": \"date\",\n        \"min\": \"1970-01-01 00:00:00.000006745\",\n        \"max\": \"2016-07-15 23:59:58\",\n        \"num_unique_values\": 7,\n        \"samples\": [\n          \"6745\",\n          \"2016-07-13 13:43:04.303039232\",\n          \"2016-07-14 19:39:27\"\n        ],\n        \"semantic_type\": \"\",\n        \"description\": \"\"\n      }\n    },\n    {\n      \"column\": \"Drop_timestamp\",\n      \"properties\": {\n        \"dtype\": \"date\",\n        \"min\": \"1970-01-01 00:00:00.000002831\",\n        \"max\": \"2016-07-16 01:09:24\",\n        \"num_unique_values\": 7,\n        \"samples\": [\n          \"2831\",\n          \"2016-07-13 13:15:33.899328768\",\n          \"2016-07-14 19:13:52\"\n        ],\n        \"semantic_type\": \"\",\n        \"description\": \"\"\n      }\n    },\n    {\n      \"column\": \"Trip_duration_min\",\n      \"properties\": {\n        \"dtype\": \"number\",\n        \"std\": 984.6365118734335,\n        \"min\": 13.850118315792262,\n        \"max\": 2831.0,\n        \"num_unique_values\": 8,\n        \"samples\": [\n          52.41342281879196,\n          64.0,\n          2831.0\n        ],\n        \"semantic_type\": \"\",\n        \"description\": \"\"\n      }\n    },\n    {\n      \"column\": \"Request_date\",\n      \"properties\": {\n        \"dtype\": \"date\",\n        \"min\": \"1970-01-01 00:00:00.000006745\",\n        \"max\": \"2016-07-15 00:00:00\",\n        \"num_unique_values\": 7,\n        \"samples\": [\n          \"6745\",\n          \"2016-07-13 00:15:47.902149376\",\n          \"2016-07-14 00:00:00\"\n        ],\n        \"semantic_type\": \"\",\n        \"description\": \"\"\n      }\n    }\n  ]\n}"
            }
          },
          "metadata": {},
          "execution_count": 14
        }
      ]
    },
    {
      "cell_type": "markdown",
      "source": [
        "# **Data Visualization**"
      ],
      "metadata": {
        "id": "DiepcvHAvCeC"
      }
    },
    {
      "cell_type": "markdown",
      "source": [
        "Data visualization is the graphical representation of information and data. By using visual elements like charts and graphs, data visualization tools provide an accessible way to see and understand trends, outliers, and patterns in data."
      ],
      "metadata": {
        "id": "Fofx-BYZvM9z"
      }
    },
    {
      "cell_type": "markdown",
      "source": [
        "# **Univariate**"
      ],
      "metadata": {
        "id": "QVimPlCev85z"
      }
    },
    {
      "cell_type": "code",
      "source": [
        "df"
      ],
      "metadata": {
        "colab": {
          "base_uri": "https://localhost:8080/",
          "height": 423
        },
        "id": "XxJN6YUowC0v",
        "outputId": "776fa664-ade8-4609-8922-6d68ed81f32c"
      },
      "execution_count": null,
      "outputs": [
        {
          "output_type": "execute_result",
          "data": {
            "text/plain": [
              "      Request_ID Pickup_point  Driver_ID             Status  \\\n",
              "0            619      Airport        1.0     Trip Completed   \n",
              "1            867      Airport        1.0     Trip Completed   \n",
              "2           1807         City        1.0     Trip Completed   \n",
              "3           2532      Airport        1.0     Trip Completed   \n",
              "4           3112         City        1.0     Trip Completed   \n",
              "...          ...          ...        ...                ...   \n",
              "6740        6745         City        NaN  No Cars Available   \n",
              "6741        6752      Airport        NaN  No Cars Available   \n",
              "6742        6751         City        NaN  No Cars Available   \n",
              "6743        6754         City        NaN  No Cars Available   \n",
              "6744        6753      Airport        NaN  No Cars Available   \n",
              "\n",
              "       Request_timestamp      Drop_timestamp  Trip_duration_min Request_date  \n",
              "0    2016-07-11 11:51:00 2016-07-11 13:00:00               69.0   2016-07-11  \n",
              "1    2016-07-11 17:57:00 2016-07-11 18:47:00               50.0   2016-07-11  \n",
              "2    2016-07-12 09:17:00 2016-07-12 09:58:00               41.0   2016-07-12  \n",
              "3    2016-07-12 21:08:00 2016-07-12 22:03:00               55.0   2016-07-12  \n",
              "4    2016-07-13 08:33:16 2016-07-13 09:25:47               52.5   2016-07-13  \n",
              "...                  ...                 ...                ...          ...  \n",
              "6740 2016-07-15 23:49:03                 NaT                NaN   2016-07-15  \n",
              "6741 2016-07-15 23:50:05                 NaT                NaN   2016-07-15  \n",
              "6742 2016-07-15 23:52:06                 NaT                NaN   2016-07-15  \n",
              "6743 2016-07-15 23:54:39                 NaT                NaN   2016-07-15  \n",
              "6744 2016-07-15 23:55:03                 NaT                NaN   2016-07-15  \n",
              "\n",
              "[6745 rows x 8 columns]"
            ],
            "text/html": [
              "\n",
              "  <div id=\"df-e630bd80-d78a-4a1e-a2c9-6780d3de0113\" class=\"colab-df-container\">\n",
              "    <div>\n",
              "<style scoped>\n",
              "    .dataframe tbody tr th:only-of-type {\n",
              "        vertical-align: middle;\n",
              "    }\n",
              "\n",
              "    .dataframe tbody tr th {\n",
              "        vertical-align: top;\n",
              "    }\n",
              "\n",
              "    .dataframe thead th {\n",
              "        text-align: right;\n",
              "    }\n",
              "</style>\n",
              "<table border=\"1\" class=\"dataframe\">\n",
              "  <thead>\n",
              "    <tr style=\"text-align: right;\">\n",
              "      <th></th>\n",
              "      <th>Request_ID</th>\n",
              "      <th>Pickup_point</th>\n",
              "      <th>Driver_ID</th>\n",
              "      <th>Status</th>\n",
              "      <th>Request_timestamp</th>\n",
              "      <th>Drop_timestamp</th>\n",
              "      <th>Trip_duration_min</th>\n",
              "      <th>Request_date</th>\n",
              "    </tr>\n",
              "  </thead>\n",
              "  <tbody>\n",
              "    <tr>\n",
              "      <th>0</th>\n",
              "      <td>619</td>\n",
              "      <td>Airport</td>\n",
              "      <td>1.0</td>\n",
              "      <td>Trip Completed</td>\n",
              "      <td>2016-07-11 11:51:00</td>\n",
              "      <td>2016-07-11 13:00:00</td>\n",
              "      <td>69.0</td>\n",
              "      <td>2016-07-11</td>\n",
              "    </tr>\n",
              "    <tr>\n",
              "      <th>1</th>\n",
              "      <td>867</td>\n",
              "      <td>Airport</td>\n",
              "      <td>1.0</td>\n",
              "      <td>Trip Completed</td>\n",
              "      <td>2016-07-11 17:57:00</td>\n",
              "      <td>2016-07-11 18:47:00</td>\n",
              "      <td>50.0</td>\n",
              "      <td>2016-07-11</td>\n",
              "    </tr>\n",
              "    <tr>\n",
              "      <th>2</th>\n",
              "      <td>1807</td>\n",
              "      <td>City</td>\n",
              "      <td>1.0</td>\n",
              "      <td>Trip Completed</td>\n",
              "      <td>2016-07-12 09:17:00</td>\n",
              "      <td>2016-07-12 09:58:00</td>\n",
              "      <td>41.0</td>\n",
              "      <td>2016-07-12</td>\n",
              "    </tr>\n",
              "    <tr>\n",
              "      <th>3</th>\n",
              "      <td>2532</td>\n",
              "      <td>Airport</td>\n",
              "      <td>1.0</td>\n",
              "      <td>Trip Completed</td>\n",
              "      <td>2016-07-12 21:08:00</td>\n",
              "      <td>2016-07-12 22:03:00</td>\n",
              "      <td>55.0</td>\n",
              "      <td>2016-07-12</td>\n",
              "    </tr>\n",
              "    <tr>\n",
              "      <th>4</th>\n",
              "      <td>3112</td>\n",
              "      <td>City</td>\n",
              "      <td>1.0</td>\n",
              "      <td>Trip Completed</td>\n",
              "      <td>2016-07-13 08:33:16</td>\n",
              "      <td>2016-07-13 09:25:47</td>\n",
              "      <td>52.5</td>\n",
              "      <td>2016-07-13</td>\n",
              "    </tr>\n",
              "    <tr>\n",
              "      <th>...</th>\n",
              "      <td>...</td>\n",
              "      <td>...</td>\n",
              "      <td>...</td>\n",
              "      <td>...</td>\n",
              "      <td>...</td>\n",
              "      <td>...</td>\n",
              "      <td>...</td>\n",
              "      <td>...</td>\n",
              "    </tr>\n",
              "    <tr>\n",
              "      <th>6740</th>\n",
              "      <td>6745</td>\n",
              "      <td>City</td>\n",
              "      <td>NaN</td>\n",
              "      <td>No Cars Available</td>\n",
              "      <td>2016-07-15 23:49:03</td>\n",
              "      <td>NaT</td>\n",
              "      <td>NaN</td>\n",
              "      <td>2016-07-15</td>\n",
              "    </tr>\n",
              "    <tr>\n",
              "      <th>6741</th>\n",
              "      <td>6752</td>\n",
              "      <td>Airport</td>\n",
              "      <td>NaN</td>\n",
              "      <td>No Cars Available</td>\n",
              "      <td>2016-07-15 23:50:05</td>\n",
              "      <td>NaT</td>\n",
              "      <td>NaN</td>\n",
              "      <td>2016-07-15</td>\n",
              "    </tr>\n",
              "    <tr>\n",
              "      <th>6742</th>\n",
              "      <td>6751</td>\n",
              "      <td>City</td>\n",
              "      <td>NaN</td>\n",
              "      <td>No Cars Available</td>\n",
              "      <td>2016-07-15 23:52:06</td>\n",
              "      <td>NaT</td>\n",
              "      <td>NaN</td>\n",
              "      <td>2016-07-15</td>\n",
              "    </tr>\n",
              "    <tr>\n",
              "      <th>6743</th>\n",
              "      <td>6754</td>\n",
              "      <td>City</td>\n",
              "      <td>NaN</td>\n",
              "      <td>No Cars Available</td>\n",
              "      <td>2016-07-15 23:54:39</td>\n",
              "      <td>NaT</td>\n",
              "      <td>NaN</td>\n",
              "      <td>2016-07-15</td>\n",
              "    </tr>\n",
              "    <tr>\n",
              "      <th>6744</th>\n",
              "      <td>6753</td>\n",
              "      <td>Airport</td>\n",
              "      <td>NaN</td>\n",
              "      <td>No Cars Available</td>\n",
              "      <td>2016-07-15 23:55:03</td>\n",
              "      <td>NaT</td>\n",
              "      <td>NaN</td>\n",
              "      <td>2016-07-15</td>\n",
              "    </tr>\n",
              "  </tbody>\n",
              "</table>\n",
              "<p>6745 rows × 8 columns</p>\n",
              "</div>\n",
              "    <div class=\"colab-df-buttons\">\n",
              "\n",
              "  <div class=\"colab-df-container\">\n",
              "    <button class=\"colab-df-convert\" onclick=\"convertToInteractive('df-e630bd80-d78a-4a1e-a2c9-6780d3de0113')\"\n",
              "            title=\"Convert this dataframe to an interactive table.\"\n",
              "            style=\"display:none;\">\n",
              "\n",
              "  <svg xmlns=\"http://www.w3.org/2000/svg\" height=\"24px\" viewBox=\"0 -960 960 960\">\n",
              "    <path d=\"M120-120v-720h720v720H120Zm60-500h600v-160H180v160Zm220 220h160v-160H400v160Zm0 220h160v-160H400v160ZM180-400h160v-160H180v160Zm440 0h160v-160H620v160ZM180-180h160v-160H180v160Zm440 0h160v-160H620v160Z\"/>\n",
              "  </svg>\n",
              "    </button>\n",
              "\n",
              "  <style>\n",
              "    .colab-df-container {\n",
              "      display:flex;\n",
              "      gap: 12px;\n",
              "    }\n",
              "\n",
              "    .colab-df-convert {\n",
              "      background-color: #E8F0FE;\n",
              "      border: none;\n",
              "      border-radius: 50%;\n",
              "      cursor: pointer;\n",
              "      display: none;\n",
              "      fill: #1967D2;\n",
              "      height: 32px;\n",
              "      padding: 0 0 0 0;\n",
              "      width: 32px;\n",
              "    }\n",
              "\n",
              "    .colab-df-convert:hover {\n",
              "      background-color: #E2EBFA;\n",
              "      box-shadow: 0px 1px 2px rgba(60, 64, 67, 0.3), 0px 1px 3px 1px rgba(60, 64, 67, 0.15);\n",
              "      fill: #174EA6;\n",
              "    }\n",
              "\n",
              "    .colab-df-buttons div {\n",
              "      margin-bottom: 4px;\n",
              "    }\n",
              "\n",
              "    [theme=dark] .colab-df-convert {\n",
              "      background-color: #3B4455;\n",
              "      fill: #D2E3FC;\n",
              "    }\n",
              "\n",
              "    [theme=dark] .colab-df-convert:hover {\n",
              "      background-color: #434B5C;\n",
              "      box-shadow: 0px 1px 3px 1px rgba(0, 0, 0, 0.15);\n",
              "      filter: drop-shadow(0px 1px 2px rgba(0, 0, 0, 0.3));\n",
              "      fill: #FFFFFF;\n",
              "    }\n",
              "  </style>\n",
              "\n",
              "    <script>\n",
              "      const buttonEl =\n",
              "        document.querySelector('#df-e630bd80-d78a-4a1e-a2c9-6780d3de0113 button.colab-df-convert');\n",
              "      buttonEl.style.display =\n",
              "        google.colab.kernel.accessAllowed ? 'block' : 'none';\n",
              "\n",
              "      async function convertToInteractive(key) {\n",
              "        const element = document.querySelector('#df-e630bd80-d78a-4a1e-a2c9-6780d3de0113');\n",
              "        const dataTable =\n",
              "          await google.colab.kernel.invokeFunction('convertToInteractive',\n",
              "                                                    [key], {});\n",
              "        if (!dataTable) return;\n",
              "\n",
              "        const docLinkHtml = 'Like what you see? Visit the ' +\n",
              "          '<a target=\"_blank\" href=https://colab.research.google.com/notebooks/data_table.ipynb>data table notebook</a>'\n",
              "          + ' to learn more about interactive tables.';\n",
              "        element.innerHTML = '';\n",
              "        dataTable['output_type'] = 'display_data';\n",
              "        await google.colab.output.renderOutput(dataTable, element);\n",
              "        const docLink = document.createElement('div');\n",
              "        docLink.innerHTML = docLinkHtml;\n",
              "        element.appendChild(docLink);\n",
              "      }\n",
              "    </script>\n",
              "  </div>\n",
              "\n",
              "\n",
              "    <div id=\"df-a3254a18-0b29-4c39-9ee6-a6559d018e28\">\n",
              "      <button class=\"colab-df-quickchart\" onclick=\"quickchart('df-a3254a18-0b29-4c39-9ee6-a6559d018e28')\"\n",
              "                title=\"Suggest charts\"\n",
              "                style=\"display:none;\">\n",
              "\n",
              "<svg xmlns=\"http://www.w3.org/2000/svg\" height=\"24px\"viewBox=\"0 0 24 24\"\n",
              "     width=\"24px\">\n",
              "    <g>\n",
              "        <path d=\"M19 3H5c-1.1 0-2 .9-2 2v14c0 1.1.9 2 2 2h14c1.1 0 2-.9 2-2V5c0-1.1-.9-2-2-2zM9 17H7v-7h2v7zm4 0h-2V7h2v10zm4 0h-2v-4h2v4z\"/>\n",
              "    </g>\n",
              "</svg>\n",
              "      </button>\n",
              "\n",
              "<style>\n",
              "  .colab-df-quickchart {\n",
              "      --bg-color: #E8F0FE;\n",
              "      --fill-color: #1967D2;\n",
              "      --hover-bg-color: #E2EBFA;\n",
              "      --hover-fill-color: #174EA6;\n",
              "      --disabled-fill-color: #AAA;\n",
              "      --disabled-bg-color: #DDD;\n",
              "  }\n",
              "\n",
              "  [theme=dark] .colab-df-quickchart {\n",
              "      --bg-color: #3B4455;\n",
              "      --fill-color: #D2E3FC;\n",
              "      --hover-bg-color: #434B5C;\n",
              "      --hover-fill-color: #FFFFFF;\n",
              "      --disabled-bg-color: #3B4455;\n",
              "      --disabled-fill-color: #666;\n",
              "  }\n",
              "\n",
              "  .colab-df-quickchart {\n",
              "    background-color: var(--bg-color);\n",
              "    border: none;\n",
              "    border-radius: 50%;\n",
              "    cursor: pointer;\n",
              "    display: none;\n",
              "    fill: var(--fill-color);\n",
              "    height: 32px;\n",
              "    padding: 0;\n",
              "    width: 32px;\n",
              "  }\n",
              "\n",
              "  .colab-df-quickchart:hover {\n",
              "    background-color: var(--hover-bg-color);\n",
              "    box-shadow: 0 1px 2px rgba(60, 64, 67, 0.3), 0 1px 3px 1px rgba(60, 64, 67, 0.15);\n",
              "    fill: var(--button-hover-fill-color);\n",
              "  }\n",
              "\n",
              "  .colab-df-quickchart-complete:disabled,\n",
              "  .colab-df-quickchart-complete:disabled:hover {\n",
              "    background-color: var(--disabled-bg-color);\n",
              "    fill: var(--disabled-fill-color);\n",
              "    box-shadow: none;\n",
              "  }\n",
              "\n",
              "  .colab-df-spinner {\n",
              "    border: 2px solid var(--fill-color);\n",
              "    border-color: transparent;\n",
              "    border-bottom-color: var(--fill-color);\n",
              "    animation:\n",
              "      spin 1s steps(1) infinite;\n",
              "  }\n",
              "\n",
              "  @keyframes spin {\n",
              "    0% {\n",
              "      border-color: transparent;\n",
              "      border-bottom-color: var(--fill-color);\n",
              "      border-left-color: var(--fill-color);\n",
              "    }\n",
              "    20% {\n",
              "      border-color: transparent;\n",
              "      border-left-color: var(--fill-color);\n",
              "      border-top-color: var(--fill-color);\n",
              "    }\n",
              "    30% {\n",
              "      border-color: transparent;\n",
              "      border-left-color: var(--fill-color);\n",
              "      border-top-color: var(--fill-color);\n",
              "      border-right-color: var(--fill-color);\n",
              "    }\n",
              "    40% {\n",
              "      border-color: transparent;\n",
              "      border-right-color: var(--fill-color);\n",
              "      border-top-color: var(--fill-color);\n",
              "    }\n",
              "    60% {\n",
              "      border-color: transparent;\n",
              "      border-right-color: var(--fill-color);\n",
              "    }\n",
              "    80% {\n",
              "      border-color: transparent;\n",
              "      border-right-color: var(--fill-color);\n",
              "      border-bottom-color: var(--fill-color);\n",
              "    }\n",
              "    90% {\n",
              "      border-color: transparent;\n",
              "      border-bottom-color: var(--fill-color);\n",
              "    }\n",
              "  }\n",
              "</style>\n",
              "\n",
              "      <script>\n",
              "        async function quickchart(key) {\n",
              "          const quickchartButtonEl =\n",
              "            document.querySelector('#' + key + ' button');\n",
              "          quickchartButtonEl.disabled = true;  // To prevent multiple clicks.\n",
              "          quickchartButtonEl.classList.add('colab-df-spinner');\n",
              "          try {\n",
              "            const charts = await google.colab.kernel.invokeFunction(\n",
              "                'suggestCharts', [key], {});\n",
              "          } catch (error) {\n",
              "            console.error('Error during call to suggestCharts:', error);\n",
              "          }\n",
              "          quickchartButtonEl.classList.remove('colab-df-spinner');\n",
              "          quickchartButtonEl.classList.add('colab-df-quickchart-complete');\n",
              "        }\n",
              "        (() => {\n",
              "          let quickchartButtonEl =\n",
              "            document.querySelector('#df-a3254a18-0b29-4c39-9ee6-a6559d018e28 button');\n",
              "          quickchartButtonEl.style.display =\n",
              "            google.colab.kernel.accessAllowed ? 'block' : 'none';\n",
              "        })();\n",
              "      </script>\n",
              "    </div>\n",
              "\n",
              "  <div id=\"id_d8f3b3b8-76e2-4854-bf06-9d34e82f8036\">\n",
              "    <style>\n",
              "      .colab-df-generate {\n",
              "        background-color: #E8F0FE;\n",
              "        border: none;\n",
              "        border-radius: 50%;\n",
              "        cursor: pointer;\n",
              "        display: none;\n",
              "        fill: #1967D2;\n",
              "        height: 32px;\n",
              "        padding: 0 0 0 0;\n",
              "        width: 32px;\n",
              "      }\n",
              "\n",
              "      .colab-df-generate:hover {\n",
              "        background-color: #E2EBFA;\n",
              "        box-shadow: 0px 1px 2px rgba(60, 64, 67, 0.3), 0px 1px 3px 1px rgba(60, 64, 67, 0.15);\n",
              "        fill: #174EA6;\n",
              "      }\n",
              "\n",
              "      [theme=dark] .colab-df-generate {\n",
              "        background-color: #3B4455;\n",
              "        fill: #D2E3FC;\n",
              "      }\n",
              "\n",
              "      [theme=dark] .colab-df-generate:hover {\n",
              "        background-color: #434B5C;\n",
              "        box-shadow: 0px 1px 3px 1px rgba(0, 0, 0, 0.15);\n",
              "        filter: drop-shadow(0px 1px 2px rgba(0, 0, 0, 0.3));\n",
              "        fill: #FFFFFF;\n",
              "      }\n",
              "    </style>\n",
              "    <button class=\"colab-df-generate\" onclick=\"generateWithVariable('df')\"\n",
              "            title=\"Generate code using this dataframe.\"\n",
              "            style=\"display:none;\">\n",
              "\n",
              "  <svg xmlns=\"http://www.w3.org/2000/svg\" height=\"24px\"viewBox=\"0 0 24 24\"\n",
              "       width=\"24px\">\n",
              "    <path d=\"M7,19H8.4L18.45,9,17,7.55,7,17.6ZM5,21V16.75L18.45,3.32a2,2,0,0,1,2.83,0l1.4,1.43a1.91,1.91,0,0,1,.58,1.4,1.91,1.91,0,0,1-.58,1.4L9.25,21ZM18.45,9,17,7.55Zm-12,3A5.31,5.31,0,0,0,4.9,8.1,5.31,5.31,0,0,0,1,6.5,5.31,5.31,0,0,0,4.9,4.9,5.31,5.31,0,0,0,6.5,1,5.31,5.31,0,0,0,8.1,4.9,5.31,5.31,0,0,0,12,6.5,5.46,5.46,0,0,0,6.5,12Z\"/>\n",
              "  </svg>\n",
              "    </button>\n",
              "    <script>\n",
              "      (() => {\n",
              "      const buttonEl =\n",
              "        document.querySelector('#id_d8f3b3b8-76e2-4854-bf06-9d34e82f8036 button.colab-df-generate');\n",
              "      buttonEl.style.display =\n",
              "        google.colab.kernel.accessAllowed ? 'block' : 'none';\n",
              "\n",
              "      buttonEl.onclick = () => {\n",
              "        google.colab.notebook.generateWithVariable('df');\n",
              "      }\n",
              "      })();\n",
              "    </script>\n",
              "  </div>\n",
              "\n",
              "    </div>\n",
              "  </div>\n"
            ],
            "application/vnd.google.colaboratory.intrinsic+json": {
              "type": "dataframe",
              "variable_name": "df",
              "summary": "{\n  \"name\": \"df\",\n  \"rows\": 6745,\n  \"fields\": [\n    {\n      \"column\": \"Request_ID\",\n      \"properties\": {\n        \"dtype\": \"number\",\n        \"std\": 1955,\n        \"min\": 1,\n        \"max\": 6766,\n        \"num_unique_values\": 6745,\n        \"samples\": [\n          2761,\n          1342,\n          44\n        ],\n        \"semantic_type\": \"\",\n        \"description\": \"\"\n      }\n    },\n    {\n      \"column\": \"Pickup_point\",\n      \"properties\": {\n        \"dtype\": \"category\",\n        \"num_unique_values\": 2,\n        \"samples\": [\n          \"City\",\n          \"Airport\"\n        ],\n        \"semantic_type\": \"\",\n        \"description\": \"\"\n      }\n    },\n    {\n      \"column\": \"Driver_ID\",\n      \"properties\": {\n        \"dtype\": \"number\",\n        \"std\": 86.05199423275745,\n        \"min\": 1.0,\n        \"max\": 300.0,\n        \"num_unique_values\": 300,\n        \"samples\": [\n          204.0,\n          267.0\n        ],\n        \"semantic_type\": \"\",\n        \"description\": \"\"\n      }\n    },\n    {\n      \"column\": \"Status\",\n      \"properties\": {\n        \"dtype\": \"category\",\n        \"num_unique_values\": 3,\n        \"samples\": [\n          \"Trip Completed\",\n          \"Cancelled\"\n        ],\n        \"semantic_type\": \"\",\n        \"description\": \"\"\n      }\n    },\n    {\n      \"column\": \"Request_timestamp\",\n      \"properties\": {\n        \"dtype\": \"date\",\n        \"min\": \"2016-07-11 00:00:00\",\n        \"max\": \"2016-07-15 23:59:58\",\n        \"num_unique_values\": 5618,\n        \"samples\": [\n          \"2016-07-13 08:33:01\",\n          \"2016-07-14 08:06:48\"\n        ],\n        \"semantic_type\": \"\",\n        \"description\": \"\"\n      }\n    },\n    {\n      \"column\": \"Drop_timestamp\",\n      \"properties\": {\n        \"dtype\": \"date\",\n        \"min\": \"2016-07-11 00:51:00\",\n        \"max\": \"2016-07-16 01:09:24\",\n        \"num_unique_values\": 2598,\n        \"samples\": [\n          \"2016-07-15 06:50:02\",\n          \"2016-07-13 16:11:42\"\n        ],\n        \"semantic_type\": \"\",\n        \"description\": \"\"\n      }\n    },\n    {\n      \"column\": \"Trip_duration_min\",\n      \"properties\": {\n        \"dtype\": \"number\",\n        \"std\": 13.850118315792262,\n        \"min\": 20.8,\n        \"max\": 83.0,\n        \"num_unique_values\": 522,\n        \"samples\": [\n          79.6,\n          59.3\n        ],\n        \"semantic_type\": \"\",\n        \"description\": \"\"\n      }\n    },\n    {\n      \"column\": \"Request_date\",\n      \"properties\": {\n        \"dtype\": \"date\",\n        \"min\": \"2016-07-11 00:00:00\",\n        \"max\": \"2016-07-15 00:00:00\",\n        \"num_unique_values\": 5,\n        \"samples\": [\n          \"2016-07-12 00:00:00\",\n          \"2016-07-15 00:00:00\"\n        ],\n        \"semantic_type\": \"\",\n        \"description\": \"\"\n      }\n    }\n  ]\n}"
            }
          },
          "metadata": {},
          "execution_count": 15
        }
      ]
    },
    {
      "cell_type": "markdown",
      "source": [
        "**Column chart**"
      ],
      "metadata": {
        "id": "ApxxC-bhwV4y"
      }
    },
    {
      "cell_type": "markdown",
      "source": [
        "This graph shows each status of the trip to the total count of IDs."
      ],
      "metadata": {
        "id": "mX1oQe3kwcu3"
      }
    },
    {
      "cell_type": "code",
      "source": [
        "# Status distribution\n",
        "sns.countplot(x='Status', data=df, palette='Set2')\n",
        "plt.title('Request Status Count')\n",
        "plt.xticks(rotation=45)\n",
        "plt.show()"
      ],
      "metadata": {
        "colab": {
          "base_uri": "https://localhost:8080/",
          "height": 554
        },
        "id": "uzjrH8JhwX8y",
        "outputId": "55d7519e-29b9-47ea-d3b2-d7f1eec2cff9"
      },
      "execution_count": null,
      "outputs": [
        {
          "output_type": "display_data",
          "data": {
            "text/plain": [
              "<Figure size 640x480 with 1 Axes>"
            ],
            "image/png": "[encoded data removed]"
          },
          "metadata": {}
        }
      ]
    },
    {
      "cell_type": "markdown",
      "source": [
        "**Insights**"
      ],
      "metadata": {
        "id": "IUBeTXHFw6L9"
      }
    },
    {
      "cell_type": "markdown",
      "source": [
        "1.  The tallest bar is for Trip Completed, which means Uber successfully finished most ride requests.\n",
        "\n",
        "2. There is a big number of No Cars Available requests, meaning many people couldn’t get a ride when they asked.\n",
        "\n",
        "3. The Cancelled bar shows that a fair number of trips were cancelled, either by users or drivers."
      ],
      "metadata": {
        "id": "-oJj1tAUw8mY"
      }
    },
    {
      "cell_type": "markdown",
      "source": [
        "**Bar graph depicting pickup points**"
      ],
      "metadata": {
        "id": "iDoJLjeRyfpO"
      }
    },
    {
      "cell_type": "markdown",
      "source": [
        "The below graph shows the pickup point distribution depicting city and airport over the total count of IDs."
      ],
      "metadata": {
        "id": "JhoOXsbRzJa3"
      }
    },
    {
      "cell_type": "code",
      "source": [
        "sns.countplot(x='Pickup_point', data=df, palette='coolwarm')\n",
        "plt.title('Pickup Point Distribution')\n",
        "plt.show()"
      ],
      "metadata": {
        "colab": {
          "base_uri": "https://localhost:8080/",
          "height": 472
        },
        "id": "VkZnZOfzzJ32",
        "outputId": "b03e32dd-5cba-479b-e10a-9766c0ca8427"
      },
      "execution_count": null,
      "outputs": [
        {
          "output_type": "display_data",
          "data": {
            "text/plain": [
              "<Figure size 640x480 with 1 Axes>"
            ],
            "image/png": "[encoded data removed]"
          },
          "metadata": {}
        }
      ]
    },
    {
      "cell_type": "markdown",
      "source": [
        "**Insights**"
      ],
      "metadata": {
        "id": "UsSgQxB-zqYI"
      }
    },
    {
      "cell_type": "markdown",
      "source": [
        "1. The city has more ride requests than the Airport.\n",
        "\n",
        "2.  This shows higher ride demand in urban areas, possibly because more people live, work, or commute in the city.\n",
        "\n",
        "3.  Uber may want to keep more drivers available in the City during peak hours."
      ],
      "metadata": {
        "id": "-xuthnb7zs0b"
      }
    },
    {
      "cell_type": "markdown",
      "source": [
        "**Histogram graph**"
      ],
      "metadata": {
        "id": "RAqjjtgBCCm6"
      }
    },
    {
      "cell_type": "markdown",
      "source": [
        "This graph shows the number of requests by the hours of each day."
      ],
      "metadata": {
        "id": "mKQFJy0pCDv2"
      }
    },
    {
      "cell_type": "code",
      "source": [
        "\n",
        "df['request_hour'] = pd.to_datetime(df['Request_timestamp']).dt.hour\n",
        "sns.histplot(df['request_hour'], bins=24, kde=False, color='skyblue')\n",
        "plt.title('Requests by Hour')\n",
        "plt.xlabel('Hour of Day')\n",
        "plt.ylabel('Number of Requests')\n",
        "plt.show()"
      ],
      "metadata": {
        "colab": {
          "base_uri": "https://localhost:8080/",
          "height": 472
        },
        "id": "c0-kwg46CFs3",
        "outputId": "f367483c-8e5c-4451-b8f7-329cfb5c65fc"
      },
      "execution_count": null,
      "outputs": [
        {
          "output_type": "display_data",
          "data": {
            "text/plain": [
              "<Figure size 640x480 with 1 Axes>"
            ],
            "image/png": "[encoded data removed]"
          },
          "metadata": {}
        }
      ]
    },
    {
      "cell_type": "markdown",
      "source": [
        "**Insights**"
      ],
      "metadata": {
        "id": "d9h2KLS5DwZy"
      }
    },
    {
      "cell_type": "markdown",
      "source": [
        "1. If there are spikes in early morning and evening, it indicates high demand during commute hours.\n",
        "These are the times when people go to or return from work or the airport.\n",
        "\n",
        "2. Late-night hours usually show the fewest requests, as most people aren't traveling then. Uber can utilize this insight to increase driver presence during peak hours, thereby avoiding “No Cars Available” issues.\n",
        "\n",
        "3. If requests are more evenly spread, Uber needs to maintain consistent driver availability throughout the day"
      ],
      "metadata": {
        "id": "_SRWEEXeDyP4"
      }
    },
    {
      "cell_type": "markdown",
      "source": [
        "# **Bivariate Analysis**"
      ],
      "metadata": {
        "id": "YAXzeffQFGiV"
      }
    },
    {
      "cell_type": "markdown",
      "source": [
        "**Grouped column chart**"
      ],
      "metadata": {
        "id": "lV1PNvsnFJqP"
      }
    },
    {
      "cell_type": "markdown",
      "source": [
        "The graph shows the count of each ID concerning the pickup point, categorized by status, including 'Trip Completed', 'Cancelled', and 'No Cars Available'."
      ],
      "metadata": {
        "id": "AIttMdtsGW6L"
      }
    },
    {
      "cell_type": "code",
      "source": [
        "# Status by pickup point\n",
        "sns.countplot(x='Pickup_point', hue='Status', data=df, palette='pastel')\n",
        "plt.title('Status by Pickup Point')\n",
        "plt.show()"
      ],
      "metadata": {
        "colab": {
          "base_uri": "https://localhost:8080/",
          "height": 472
        },
        "id": "Hd6_fT-wGX19",
        "outputId": "e58f7a38-7a7f-4c55-ea35-9bb068f27571"
      },
      "execution_count": null,
      "outputs": [
        {
          "output_type": "display_data",
          "data": {
            "text/plain": [
              "<Figure size 640x480 with 1 Axes>"
            ],
            "image/png": "[encoded data removed]"
          },
          "metadata": {}
        }
      ]
    },
    {
      "cell_type": "markdown",
      "source": [
        "**Insights**"
      ],
      "metadata": {
        "id": "CPgQE0JUHTnB"
      }
    },
    {
      "cell_type": "markdown",
      "source": [
        "1. If the \"Trip Completed\" bar is higher in the City, it means trips from the City are more likely to be fulfilled than from the Airport.\n",
        "If it's higher in the Airport, the opposite is true.\n",
        "\n",
        "2. If this status is more common at the Airport, it may indicate a driver shortage in that area.\n",
        "Uber should allocate more drivers to the Airport, especially during peak travel hours.\n",
        "\n",
        "3. If the City has more cancelled rides, there may be frequent driver rejections or long wait times in urban zones.\n"
      ],
      "metadata": {
        "id": "U1gl6KzSHWJ8"
      }
    },
    {
      "cell_type": "markdown",
      "source": [
        "**Grouped Histogram plot**"
      ],
      "metadata": {
        "id": "nufbvOCaHu7Q"
      }
    },
    {
      "cell_type": "markdown",
      "source": [
        "The graph depicts the total count of IDs with cancelled requests by each hour."
      ],
      "metadata": {
        "id": "vJi1CjMOHw5f"
      }
    },
    {
      "cell_type": "code",
      "source": [
        "# Cancellations by hour\n",
        "cancelled = df[df['Status'] == 'Cancelled']\n",
        "sns.histplot(cancelled['request_hour'], bins=24, color='orange')\n",
        "plt.title('Cancelled Requests by Hour')\n",
        "plt.show()"
      ],
      "metadata": {
        "colab": {
          "base_uri": "https://localhost:8080/",
          "height": 472
        },
        "id": "6BFtmAKHHxSz",
        "outputId": "5d3ad1b9-1a06-4abd-f707-75bd01904e64"
      },
      "execution_count": null,
      "outputs": [
        {
          "output_type": "display_data",
          "data": {
            "text/plain": [
              "<Figure size 640x480 with 1 Axes>"
            ],
            "image/png": "[encoded data removed]"
          },
          "metadata": {}
        }
      ]
    },
    {
      "cell_type": "markdown",
      "source": [
        "**Insights**"
      ],
      "metadata": {
        "id": "WukBOlSJIUfG"
      }
    },
    {
      "cell_type": "markdown",
      "source": [
        "1. The spikes between 5-9 AM or 5-9 PM indicate cancellations are high during peak hours, likely due to:\n",
        "traffic congestion,\n",
        "driver unavailability, and\n",
        "long wait times.\n",
        "\n",
        "2. If cancellations are very low late at night (e.g., 12-4 AM), it’s expected because fewer people request rides and fewer drivers cancel during those quiet hours.\n",
        "\n",
        "3. A high cancellation rate in the morning (e.g., 7-9 AM) may disrupt commuters heading to work or travelers catching early flights.\n",
        "Evening peaks might reflect driver fatigue or long distances."
      ],
      "metadata": {
        "id": "N-Oc48JnIWV9"
      }
    },
    {
      "cell_type": "markdown",
      "source": [
        "# Conclusion"
      ],
      "metadata": {
        "id": "O1290hs1PaFp"
      }
    },
    {
      "cell_type": "markdown",
      "source": [
        "1. Uber needs better driver coverage at the Airport to reduce missed ride opportunities.\n",
        "\n",
        "2. Demand is time-sensitive. Uber should ensure more drivers are online during these peak windows.\n",
        "\n",
        "3. Morning service needs special attention — faster matching and incentive programs for drivers can help.\n",
        "\n",
        "4. Each location has different problems — Uber must use targeted solutions.\n",
        "\n",
        "\n",
        "\n",
        "Overall, we can improve driver availability at the Airport, especially during peak hours, offer incentives and surge pricing during high-demand periods to attract more drivers, reduce cancellations with better matching and feedback systems, and use data-driven planning to balance supply and demand by location and time.\n",
        "\n"
      ],
      "metadata": {
        "id": "G_Mf3oilP5uf"
      }
    }
  ]
}